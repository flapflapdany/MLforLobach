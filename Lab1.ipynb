{
 "cells": [
  {
   "cell_type": "code",
   "execution_count": 1,
   "id": "e25b0e59",
   "metadata": {},
   "outputs": [],
   "source": [
    "import numpy as np\n",
    "import matplotlib.pyplot as plt\n",
    "import pandas as pd\n",
    "import seaborn as sns\n",
    "%matplotlib inline"
   ]
  },
  {
   "cell_type": "markdown",
   "id": "350e0d24",
   "metadata": {},
   "source": [
    "\"С вашим датасетом нужно проделать примерно то же самое, что мы делали (сделаем) на лекции.  Все должно бть выложено на ваш гиты\n",
    "А именно:\n",
    "\n",
    "0. Описать задачу словами\n",
    "1. Прочитать данные\n",
    "2. Визуализировать данные и вычислить основные характеристики (среднее, разброс, корреляционную матрицу и т.д.). Интерпретировать.\n",
    "3. Обработать пропущенные значения (или убедиться, что их нет)\n",
    "4. Обработать категориальные признаки\n",
    "5. Провести нормализацию (или объяснить, почему в вашем случае она не нужна)\n",
    "6. Разбить данные на обучающую и тестовую выборки\n",
    "7. Запустить классификатор ближайших соседей (попробовать разное их количество)\n",
    "8. Вычислить ошибки на обучающей и тестовой выборках. Сделать выводы\n",
    "9. По желанию: запустить другие классификаторы. Сравнить результаты\n",
    "10. По желанию: как-то побороться с несбалансированностью классов (если она есть)\n",
    "11. По желанию: исключить коррелированные переменные (объяснить зачем)\n",
    "12. Сделать общие выводы\""
   ]
  },
  {
   "cell_type": "code",
   "execution_count": 2,
   "id": "47fc629d",
   "metadata": {},
   "outputs": [
    {
     "data": {
      "text/html": [
       "<div>\n",
       "<style scoped>\n",
       "    .dataframe tbody tr th:only-of-type {\n",
       "        vertical-align: middle;\n",
       "    }\n",
       "\n",
       "    .dataframe tbody tr th {\n",
       "        vertical-align: top;\n",
       "    }\n",
       "\n",
       "    .dataframe thead th {\n",
       "        text-align: right;\n",
       "    }\n",
       "</style>\n",
       "<table border=\"1\" class=\"dataframe\">\n",
       "  <thead>\n",
       "    <tr style=\"text-align: right;\">\n",
       "      <th></th>\n",
       "      <th>encounter_id</th>\n",
       "      <th>patient_nbr</th>\n",
       "      <th>race</th>\n",
       "      <th>gender</th>\n",
       "      <th>age</th>\n",
       "      <th>weight</th>\n",
       "      <th>admission_type_id</th>\n",
       "      <th>discharge_disposition_id</th>\n",
       "      <th>admission_source_id</th>\n",
       "      <th>time_in_hospital</th>\n",
       "      <th>...</th>\n",
       "      <th>citoglipton</th>\n",
       "      <th>insulin</th>\n",
       "      <th>glyburide-metformin</th>\n",
       "      <th>glipizide-metformin</th>\n",
       "      <th>glimepiride-pioglitazone</th>\n",
       "      <th>metformin-rosiglitazone</th>\n",
       "      <th>metformin-pioglitazone</th>\n",
       "      <th>change</th>\n",
       "      <th>diabetesMed</th>\n",
       "      <th>readmitted</th>\n",
       "    </tr>\n",
       "  </thead>\n",
       "  <tbody>\n",
       "    <tr>\n",
       "      <th>0</th>\n",
       "      <td>2278392</td>\n",
       "      <td>8222157</td>\n",
       "      <td>Caucasian</td>\n",
       "      <td>Female</td>\n",
       "      <td>[0-10)</td>\n",
       "      <td>?</td>\n",
       "      <td>6</td>\n",
       "      <td>25</td>\n",
       "      <td>1</td>\n",
       "      <td>1</td>\n",
       "      <td>...</td>\n",
       "      <td>No</td>\n",
       "      <td>No</td>\n",
       "      <td>No</td>\n",
       "      <td>No</td>\n",
       "      <td>No</td>\n",
       "      <td>No</td>\n",
       "      <td>No</td>\n",
       "      <td>No</td>\n",
       "      <td>No</td>\n",
       "      <td>NO</td>\n",
       "    </tr>\n",
       "    <tr>\n",
       "      <th>1</th>\n",
       "      <td>149190</td>\n",
       "      <td>55629189</td>\n",
       "      <td>Caucasian</td>\n",
       "      <td>Female</td>\n",
       "      <td>[10-20)</td>\n",
       "      <td>?</td>\n",
       "      <td>1</td>\n",
       "      <td>1</td>\n",
       "      <td>7</td>\n",
       "      <td>3</td>\n",
       "      <td>...</td>\n",
       "      <td>No</td>\n",
       "      <td>Up</td>\n",
       "      <td>No</td>\n",
       "      <td>No</td>\n",
       "      <td>No</td>\n",
       "      <td>No</td>\n",
       "      <td>No</td>\n",
       "      <td>Ch</td>\n",
       "      <td>Yes</td>\n",
       "      <td>&gt;30</td>\n",
       "    </tr>\n",
       "    <tr>\n",
       "      <th>2</th>\n",
       "      <td>64410</td>\n",
       "      <td>86047875</td>\n",
       "      <td>AfricanAmerican</td>\n",
       "      <td>Female</td>\n",
       "      <td>[20-30)</td>\n",
       "      <td>?</td>\n",
       "      <td>1</td>\n",
       "      <td>1</td>\n",
       "      <td>7</td>\n",
       "      <td>2</td>\n",
       "      <td>...</td>\n",
       "      <td>No</td>\n",
       "      <td>No</td>\n",
       "      <td>No</td>\n",
       "      <td>No</td>\n",
       "      <td>No</td>\n",
       "      <td>No</td>\n",
       "      <td>No</td>\n",
       "      <td>No</td>\n",
       "      <td>Yes</td>\n",
       "      <td>NO</td>\n",
       "    </tr>\n",
       "    <tr>\n",
       "      <th>3</th>\n",
       "      <td>500364</td>\n",
       "      <td>82442376</td>\n",
       "      <td>Caucasian</td>\n",
       "      <td>Male</td>\n",
       "      <td>[30-40)</td>\n",
       "      <td>?</td>\n",
       "      <td>1</td>\n",
       "      <td>1</td>\n",
       "      <td>7</td>\n",
       "      <td>2</td>\n",
       "      <td>...</td>\n",
       "      <td>No</td>\n",
       "      <td>Up</td>\n",
       "      <td>No</td>\n",
       "      <td>No</td>\n",
       "      <td>No</td>\n",
       "      <td>No</td>\n",
       "      <td>No</td>\n",
       "      <td>Ch</td>\n",
       "      <td>Yes</td>\n",
       "      <td>NO</td>\n",
       "    </tr>\n",
       "    <tr>\n",
       "      <th>4</th>\n",
       "      <td>16680</td>\n",
       "      <td>42519267</td>\n",
       "      <td>Caucasian</td>\n",
       "      <td>Male</td>\n",
       "      <td>[40-50)</td>\n",
       "      <td>?</td>\n",
       "      <td>1</td>\n",
       "      <td>1</td>\n",
       "      <td>7</td>\n",
       "      <td>1</td>\n",
       "      <td>...</td>\n",
       "      <td>No</td>\n",
       "      <td>Steady</td>\n",
       "      <td>No</td>\n",
       "      <td>No</td>\n",
       "      <td>No</td>\n",
       "      <td>No</td>\n",
       "      <td>No</td>\n",
       "      <td>Ch</td>\n",
       "      <td>Yes</td>\n",
       "      <td>NO</td>\n",
       "    </tr>\n",
       "    <tr>\n",
       "      <th>5</th>\n",
       "      <td>35754</td>\n",
       "      <td>82637451</td>\n",
       "      <td>Caucasian</td>\n",
       "      <td>Male</td>\n",
       "      <td>[50-60)</td>\n",
       "      <td>?</td>\n",
       "      <td>2</td>\n",
       "      <td>1</td>\n",
       "      <td>2</td>\n",
       "      <td>3</td>\n",
       "      <td>...</td>\n",
       "      <td>No</td>\n",
       "      <td>Steady</td>\n",
       "      <td>No</td>\n",
       "      <td>No</td>\n",
       "      <td>No</td>\n",
       "      <td>No</td>\n",
       "      <td>No</td>\n",
       "      <td>No</td>\n",
       "      <td>Yes</td>\n",
       "      <td>&gt;30</td>\n",
       "    </tr>\n",
       "    <tr>\n",
       "      <th>6</th>\n",
       "      <td>55842</td>\n",
       "      <td>84259809</td>\n",
       "      <td>Caucasian</td>\n",
       "      <td>Male</td>\n",
       "      <td>[60-70)</td>\n",
       "      <td>?</td>\n",
       "      <td>3</td>\n",
       "      <td>1</td>\n",
       "      <td>2</td>\n",
       "      <td>4</td>\n",
       "      <td>...</td>\n",
       "      <td>No</td>\n",
       "      <td>Steady</td>\n",
       "      <td>No</td>\n",
       "      <td>No</td>\n",
       "      <td>No</td>\n",
       "      <td>No</td>\n",
       "      <td>No</td>\n",
       "      <td>Ch</td>\n",
       "      <td>Yes</td>\n",
       "      <td>NO</td>\n",
       "    </tr>\n",
       "    <tr>\n",
       "      <th>7</th>\n",
       "      <td>63768</td>\n",
       "      <td>114882984</td>\n",
       "      <td>Caucasian</td>\n",
       "      <td>Male</td>\n",
       "      <td>[70-80)</td>\n",
       "      <td>?</td>\n",
       "      <td>1</td>\n",
       "      <td>1</td>\n",
       "      <td>7</td>\n",
       "      <td>5</td>\n",
       "      <td>...</td>\n",
       "      <td>No</td>\n",
       "      <td>No</td>\n",
       "      <td>No</td>\n",
       "      <td>No</td>\n",
       "      <td>No</td>\n",
       "      <td>No</td>\n",
       "      <td>No</td>\n",
       "      <td>No</td>\n",
       "      <td>Yes</td>\n",
       "      <td>&gt;30</td>\n",
       "    </tr>\n",
       "    <tr>\n",
       "      <th>8</th>\n",
       "      <td>12522</td>\n",
       "      <td>48330783</td>\n",
       "      <td>Caucasian</td>\n",
       "      <td>Female</td>\n",
       "      <td>[80-90)</td>\n",
       "      <td>?</td>\n",
       "      <td>2</td>\n",
       "      <td>1</td>\n",
       "      <td>4</td>\n",
       "      <td>13</td>\n",
       "      <td>...</td>\n",
       "      <td>No</td>\n",
       "      <td>Steady</td>\n",
       "      <td>No</td>\n",
       "      <td>No</td>\n",
       "      <td>No</td>\n",
       "      <td>No</td>\n",
       "      <td>No</td>\n",
       "      <td>Ch</td>\n",
       "      <td>Yes</td>\n",
       "      <td>NO</td>\n",
       "    </tr>\n",
       "    <tr>\n",
       "      <th>9</th>\n",
       "      <td>15738</td>\n",
       "      <td>63555939</td>\n",
       "      <td>Caucasian</td>\n",
       "      <td>Female</td>\n",
       "      <td>[90-100)</td>\n",
       "      <td>?</td>\n",
       "      <td>3</td>\n",
       "      <td>3</td>\n",
       "      <td>4</td>\n",
       "      <td>12</td>\n",
       "      <td>...</td>\n",
       "      <td>No</td>\n",
       "      <td>Steady</td>\n",
       "      <td>No</td>\n",
       "      <td>No</td>\n",
       "      <td>No</td>\n",
       "      <td>No</td>\n",
       "      <td>No</td>\n",
       "      <td>Ch</td>\n",
       "      <td>Yes</td>\n",
       "      <td>NO</td>\n",
       "    </tr>\n",
       "  </tbody>\n",
       "</table>\n",
       "<p>10 rows × 50 columns</p>\n",
       "</div>"
      ],
      "text/plain": [
       "   encounter_id  patient_nbr             race  gender       age weight  \\\n",
       "0       2278392      8222157        Caucasian  Female    [0-10)      ?   \n",
       "1        149190     55629189        Caucasian  Female   [10-20)      ?   \n",
       "2         64410     86047875  AfricanAmerican  Female   [20-30)      ?   \n",
       "3        500364     82442376        Caucasian    Male   [30-40)      ?   \n",
       "4         16680     42519267        Caucasian    Male   [40-50)      ?   \n",
       "5         35754     82637451        Caucasian    Male   [50-60)      ?   \n",
       "6         55842     84259809        Caucasian    Male   [60-70)      ?   \n",
       "7         63768    114882984        Caucasian    Male   [70-80)      ?   \n",
       "8         12522     48330783        Caucasian  Female   [80-90)      ?   \n",
       "9         15738     63555939        Caucasian  Female  [90-100)      ?   \n",
       "\n",
       "   admission_type_id  discharge_disposition_id  admission_source_id  \\\n",
       "0                  6                        25                    1   \n",
       "1                  1                         1                    7   \n",
       "2                  1                         1                    7   \n",
       "3                  1                         1                    7   \n",
       "4                  1                         1                    7   \n",
       "5                  2                         1                    2   \n",
       "6                  3                         1                    2   \n",
       "7                  1                         1                    7   \n",
       "8                  2                         1                    4   \n",
       "9                  3                         3                    4   \n",
       "\n",
       "   time_in_hospital  ... citoglipton insulin  glyburide-metformin  \\\n",
       "0                 1  ...          No      No                   No   \n",
       "1                 3  ...          No      Up                   No   \n",
       "2                 2  ...          No      No                   No   \n",
       "3                 2  ...          No      Up                   No   \n",
       "4                 1  ...          No  Steady                   No   \n",
       "5                 3  ...          No  Steady                   No   \n",
       "6                 4  ...          No  Steady                   No   \n",
       "7                 5  ...          No      No                   No   \n",
       "8                13  ...          No  Steady                   No   \n",
       "9                12  ...          No  Steady                   No   \n",
       "\n",
       "   glipizide-metformin  glimepiride-pioglitazone  metformin-rosiglitazone  \\\n",
       "0                   No                        No                       No   \n",
       "1                   No                        No                       No   \n",
       "2                   No                        No                       No   \n",
       "3                   No                        No                       No   \n",
       "4                   No                        No                       No   \n",
       "5                   No                        No                       No   \n",
       "6                   No                        No                       No   \n",
       "7                   No                        No                       No   \n",
       "8                   No                        No                       No   \n",
       "9                   No                        No                       No   \n",
       "\n",
       "   metformin-pioglitazone  change diabetesMed readmitted  \n",
       "0                      No      No          No         NO  \n",
       "1                      No      Ch         Yes        >30  \n",
       "2                      No      No         Yes         NO  \n",
       "3                      No      Ch         Yes         NO  \n",
       "4                      No      Ch         Yes         NO  \n",
       "5                      No      No         Yes        >30  \n",
       "6                      No      Ch         Yes         NO  \n",
       "7                      No      No         Yes        >30  \n",
       "8                      No      Ch         Yes         NO  \n",
       "9                      No      Ch         Yes         NO  \n",
       "\n",
       "[10 rows x 50 columns]"
      ]
     },
     "execution_count": 2,
     "metadata": {},
     "output_type": "execute_result"
    }
   ],
   "source": [
    "path1=\"C:\\\\Users\\\\vikto\\\\Downloads\\\\dataset_diabetes\\\\dataset_diabetes\\\\diabetic_data.csv\"\n",
    "Y = pd.read_csv(path1 )\n",
    "Y.head(10)#Output our data"
   ]
  },
  {
   "cell_type": "code",
   "execution_count": 3,
   "id": "537ce638",
   "metadata": {},
   "outputs": [
    {
     "data": {
      "text/html": [
       "<div>\n",
       "<style scoped>\n",
       "    .dataframe tbody tr th:only-of-type {\n",
       "        vertical-align: middle;\n",
       "    }\n",
       "\n",
       "    .dataframe tbody tr th {\n",
       "        vertical-align: top;\n",
       "    }\n",
       "\n",
       "    .dataframe thead th {\n",
       "        text-align: right;\n",
       "    }\n",
       "</style>\n",
       "<table border=\"1\" class=\"dataframe\">\n",
       "  <thead>\n",
       "    <tr style=\"text-align: right;\">\n",
       "      <th></th>\n",
       "      <th>encounter_id</th>\n",
       "      <th>patient_nbr</th>\n",
       "      <th>race</th>\n",
       "      <th>gender</th>\n",
       "      <th>age</th>\n",
       "      <th>weight</th>\n",
       "      <th>admission_type_id</th>\n",
       "      <th>discharge_disposition_id</th>\n",
       "      <th>admission_source_id</th>\n",
       "      <th>time_in_hospital</th>\n",
       "      <th>...</th>\n",
       "      <th>citoglipton</th>\n",
       "      <th>insulin</th>\n",
       "      <th>glyburide-metformin</th>\n",
       "      <th>glipizide-metformin</th>\n",
       "      <th>glimepiride-pioglitazone</th>\n",
       "      <th>metformin-rosiglitazone</th>\n",
       "      <th>metformin-pioglitazone</th>\n",
       "      <th>change</th>\n",
       "      <th>diabetesMed</th>\n",
       "      <th>readmitted</th>\n",
       "    </tr>\n",
       "  </thead>\n",
       "  <tbody>\n",
       "    <tr>\n",
       "      <th>101756</th>\n",
       "      <td>443842070</td>\n",
       "      <td>140199494</td>\n",
       "      <td>Other</td>\n",
       "      <td>Female</td>\n",
       "      <td>[60-70)</td>\n",
       "      <td>?</td>\n",
       "      <td>1</td>\n",
       "      <td>1</td>\n",
       "      <td>7</td>\n",
       "      <td>2</td>\n",
       "      <td>...</td>\n",
       "      <td>No</td>\n",
       "      <td>Steady</td>\n",
       "      <td>No</td>\n",
       "      <td>No</td>\n",
       "      <td>No</td>\n",
       "      <td>No</td>\n",
       "      <td>No</td>\n",
       "      <td>No</td>\n",
       "      <td>Yes</td>\n",
       "      <td>&gt;30</td>\n",
       "    </tr>\n",
       "    <tr>\n",
       "      <th>101757</th>\n",
       "      <td>443842136</td>\n",
       "      <td>181593374</td>\n",
       "      <td>Caucasian</td>\n",
       "      <td>Female</td>\n",
       "      <td>[70-80)</td>\n",
       "      <td>?</td>\n",
       "      <td>1</td>\n",
       "      <td>1</td>\n",
       "      <td>7</td>\n",
       "      <td>5</td>\n",
       "      <td>...</td>\n",
       "      <td>No</td>\n",
       "      <td>Steady</td>\n",
       "      <td>No</td>\n",
       "      <td>No</td>\n",
       "      <td>No</td>\n",
       "      <td>No</td>\n",
       "      <td>No</td>\n",
       "      <td>No</td>\n",
       "      <td>Yes</td>\n",
       "      <td>NO</td>\n",
       "    </tr>\n",
       "    <tr>\n",
       "      <th>101758</th>\n",
       "      <td>443842340</td>\n",
       "      <td>120975314</td>\n",
       "      <td>Caucasian</td>\n",
       "      <td>Female</td>\n",
       "      <td>[80-90)</td>\n",
       "      <td>?</td>\n",
       "      <td>1</td>\n",
       "      <td>1</td>\n",
       "      <td>7</td>\n",
       "      <td>5</td>\n",
       "      <td>...</td>\n",
       "      <td>No</td>\n",
       "      <td>Up</td>\n",
       "      <td>No</td>\n",
       "      <td>No</td>\n",
       "      <td>No</td>\n",
       "      <td>No</td>\n",
       "      <td>No</td>\n",
       "      <td>Ch</td>\n",
       "      <td>Yes</td>\n",
       "      <td>NO</td>\n",
       "    </tr>\n",
       "    <tr>\n",
       "      <th>101759</th>\n",
       "      <td>443842778</td>\n",
       "      <td>86472243</td>\n",
       "      <td>Caucasian</td>\n",
       "      <td>Male</td>\n",
       "      <td>[80-90)</td>\n",
       "      <td>?</td>\n",
       "      <td>1</td>\n",
       "      <td>1</td>\n",
       "      <td>7</td>\n",
       "      <td>1</td>\n",
       "      <td>...</td>\n",
       "      <td>No</td>\n",
       "      <td>Up</td>\n",
       "      <td>No</td>\n",
       "      <td>No</td>\n",
       "      <td>No</td>\n",
       "      <td>No</td>\n",
       "      <td>No</td>\n",
       "      <td>Ch</td>\n",
       "      <td>Yes</td>\n",
       "      <td>NO</td>\n",
       "    </tr>\n",
       "    <tr>\n",
       "      <th>101760</th>\n",
       "      <td>443847176</td>\n",
       "      <td>50375628</td>\n",
       "      <td>AfricanAmerican</td>\n",
       "      <td>Female</td>\n",
       "      <td>[60-70)</td>\n",
       "      <td>?</td>\n",
       "      <td>1</td>\n",
       "      <td>1</td>\n",
       "      <td>7</td>\n",
       "      <td>6</td>\n",
       "      <td>...</td>\n",
       "      <td>No</td>\n",
       "      <td>Down</td>\n",
       "      <td>No</td>\n",
       "      <td>No</td>\n",
       "      <td>No</td>\n",
       "      <td>No</td>\n",
       "      <td>No</td>\n",
       "      <td>Ch</td>\n",
       "      <td>Yes</td>\n",
       "      <td>&gt;30</td>\n",
       "    </tr>\n",
       "    <tr>\n",
       "      <th>101761</th>\n",
       "      <td>443847548</td>\n",
       "      <td>100162476</td>\n",
       "      <td>AfricanAmerican</td>\n",
       "      <td>Male</td>\n",
       "      <td>[70-80)</td>\n",
       "      <td>?</td>\n",
       "      <td>1</td>\n",
       "      <td>3</td>\n",
       "      <td>7</td>\n",
       "      <td>3</td>\n",
       "      <td>...</td>\n",
       "      <td>No</td>\n",
       "      <td>Down</td>\n",
       "      <td>No</td>\n",
       "      <td>No</td>\n",
       "      <td>No</td>\n",
       "      <td>No</td>\n",
       "      <td>No</td>\n",
       "      <td>Ch</td>\n",
       "      <td>Yes</td>\n",
       "      <td>&gt;30</td>\n",
       "    </tr>\n",
       "    <tr>\n",
       "      <th>101762</th>\n",
       "      <td>443847782</td>\n",
       "      <td>74694222</td>\n",
       "      <td>AfricanAmerican</td>\n",
       "      <td>Female</td>\n",
       "      <td>[80-90)</td>\n",
       "      <td>?</td>\n",
       "      <td>1</td>\n",
       "      <td>4</td>\n",
       "      <td>5</td>\n",
       "      <td>5</td>\n",
       "      <td>...</td>\n",
       "      <td>No</td>\n",
       "      <td>Steady</td>\n",
       "      <td>No</td>\n",
       "      <td>No</td>\n",
       "      <td>No</td>\n",
       "      <td>No</td>\n",
       "      <td>No</td>\n",
       "      <td>No</td>\n",
       "      <td>Yes</td>\n",
       "      <td>NO</td>\n",
       "    </tr>\n",
       "    <tr>\n",
       "      <th>101763</th>\n",
       "      <td>443854148</td>\n",
       "      <td>41088789</td>\n",
       "      <td>Caucasian</td>\n",
       "      <td>Male</td>\n",
       "      <td>[70-80)</td>\n",
       "      <td>?</td>\n",
       "      <td>1</td>\n",
       "      <td>1</td>\n",
       "      <td>7</td>\n",
       "      <td>1</td>\n",
       "      <td>...</td>\n",
       "      <td>No</td>\n",
       "      <td>Down</td>\n",
       "      <td>No</td>\n",
       "      <td>No</td>\n",
       "      <td>No</td>\n",
       "      <td>No</td>\n",
       "      <td>No</td>\n",
       "      <td>Ch</td>\n",
       "      <td>Yes</td>\n",
       "      <td>NO</td>\n",
       "    </tr>\n",
       "    <tr>\n",
       "      <th>101764</th>\n",
       "      <td>443857166</td>\n",
       "      <td>31693671</td>\n",
       "      <td>Caucasian</td>\n",
       "      <td>Female</td>\n",
       "      <td>[80-90)</td>\n",
       "      <td>?</td>\n",
       "      <td>2</td>\n",
       "      <td>3</td>\n",
       "      <td>7</td>\n",
       "      <td>10</td>\n",
       "      <td>...</td>\n",
       "      <td>No</td>\n",
       "      <td>Up</td>\n",
       "      <td>No</td>\n",
       "      <td>No</td>\n",
       "      <td>No</td>\n",
       "      <td>No</td>\n",
       "      <td>No</td>\n",
       "      <td>Ch</td>\n",
       "      <td>Yes</td>\n",
       "      <td>NO</td>\n",
       "    </tr>\n",
       "    <tr>\n",
       "      <th>101765</th>\n",
       "      <td>443867222</td>\n",
       "      <td>175429310</td>\n",
       "      <td>Caucasian</td>\n",
       "      <td>Male</td>\n",
       "      <td>[70-80)</td>\n",
       "      <td>?</td>\n",
       "      <td>1</td>\n",
       "      <td>1</td>\n",
       "      <td>7</td>\n",
       "      <td>6</td>\n",
       "      <td>...</td>\n",
       "      <td>No</td>\n",
       "      <td>No</td>\n",
       "      <td>No</td>\n",
       "      <td>No</td>\n",
       "      <td>No</td>\n",
       "      <td>No</td>\n",
       "      <td>No</td>\n",
       "      <td>No</td>\n",
       "      <td>No</td>\n",
       "      <td>NO</td>\n",
       "    </tr>\n",
       "  </tbody>\n",
       "</table>\n",
       "<p>10 rows × 50 columns</p>\n",
       "</div>"
      ],
      "text/plain": [
       "        encounter_id  patient_nbr             race  gender      age weight  \\\n",
       "101756     443842070    140199494            Other  Female  [60-70)      ?   \n",
       "101757     443842136    181593374        Caucasian  Female  [70-80)      ?   \n",
       "101758     443842340    120975314        Caucasian  Female  [80-90)      ?   \n",
       "101759     443842778     86472243        Caucasian    Male  [80-90)      ?   \n",
       "101760     443847176     50375628  AfricanAmerican  Female  [60-70)      ?   \n",
       "101761     443847548    100162476  AfricanAmerican    Male  [70-80)      ?   \n",
       "101762     443847782     74694222  AfricanAmerican  Female  [80-90)      ?   \n",
       "101763     443854148     41088789        Caucasian    Male  [70-80)      ?   \n",
       "101764     443857166     31693671        Caucasian  Female  [80-90)      ?   \n",
       "101765     443867222    175429310        Caucasian    Male  [70-80)      ?   \n",
       "\n",
       "        admission_type_id  discharge_disposition_id  admission_source_id  \\\n",
       "101756                  1                         1                    7   \n",
       "101757                  1                         1                    7   \n",
       "101758                  1                         1                    7   \n",
       "101759                  1                         1                    7   \n",
       "101760                  1                         1                    7   \n",
       "101761                  1                         3                    7   \n",
       "101762                  1                         4                    5   \n",
       "101763                  1                         1                    7   \n",
       "101764                  2                         3                    7   \n",
       "101765                  1                         1                    7   \n",
       "\n",
       "        time_in_hospital  ... citoglipton insulin  glyburide-metformin  \\\n",
       "101756                 2  ...          No  Steady                   No   \n",
       "101757                 5  ...          No  Steady                   No   \n",
       "101758                 5  ...          No      Up                   No   \n",
       "101759                 1  ...          No      Up                   No   \n",
       "101760                 6  ...          No    Down                   No   \n",
       "101761                 3  ...          No    Down                   No   \n",
       "101762                 5  ...          No  Steady                   No   \n",
       "101763                 1  ...          No    Down                   No   \n",
       "101764                10  ...          No      Up                   No   \n",
       "101765                 6  ...          No      No                   No   \n",
       "\n",
       "        glipizide-metformin  glimepiride-pioglitazone  \\\n",
       "101756                   No                        No   \n",
       "101757                   No                        No   \n",
       "101758                   No                        No   \n",
       "101759                   No                        No   \n",
       "101760                   No                        No   \n",
       "101761                   No                        No   \n",
       "101762                   No                        No   \n",
       "101763                   No                        No   \n",
       "101764                   No                        No   \n",
       "101765                   No                        No   \n",
       "\n",
       "        metformin-rosiglitazone  metformin-pioglitazone  change diabetesMed  \\\n",
       "101756                       No                      No      No         Yes   \n",
       "101757                       No                      No      No         Yes   \n",
       "101758                       No                      No      Ch         Yes   \n",
       "101759                       No                      No      Ch         Yes   \n",
       "101760                       No                      No      Ch         Yes   \n",
       "101761                       No                      No      Ch         Yes   \n",
       "101762                       No                      No      No         Yes   \n",
       "101763                       No                      No      Ch         Yes   \n",
       "101764                       No                      No      Ch         Yes   \n",
       "101765                       No                      No      No          No   \n",
       "\n",
       "       readmitted  \n",
       "101756        >30  \n",
       "101757         NO  \n",
       "101758         NO  \n",
       "101759         NO  \n",
       "101760        >30  \n",
       "101761        >30  \n",
       "101762         NO  \n",
       "101763         NO  \n",
       "101764         NO  \n",
       "101765         NO  \n",
       "\n",
       "[10 rows x 50 columns]"
      ]
     },
     "execution_count": 3,
     "metadata": {},
     "output_type": "execute_result"
    }
   ],
   "source": [
    "Y.tail(10)"
   ]
  },
  {
   "cell_type": "code",
   "execution_count": 4,
   "id": "97dfc312",
   "metadata": {},
   "outputs": [
    {
     "name": "stdout",
     "output_type": "stream",
     "text": [
      "<class 'pandas.core.frame.DataFrame'>\n",
      "RangeIndex: 101766 entries, 0 to 101765\n",
      "Data columns (total 50 columns):\n",
      " #   Column                    Non-Null Count   Dtype \n",
      "---  ------                    --------------   ----- \n",
      " 0   encounter_id              101766 non-null  int64 \n",
      " 1   patient_nbr               101766 non-null  int64 \n",
      " 2   race                      101766 non-null  object\n",
      " 3   gender                    101766 non-null  object\n",
      " 4   age                       101766 non-null  object\n",
      " 5   weight                    101766 non-null  object\n",
      " 6   admission_type_id         101766 non-null  int64 \n",
      " 7   discharge_disposition_id  101766 non-null  int64 \n",
      " 8   admission_source_id       101766 non-null  int64 \n",
      " 9   time_in_hospital          101766 non-null  int64 \n",
      " 10  payer_code                101766 non-null  object\n",
      " 11  medical_specialty         101766 non-null  object\n",
      " 12  num_lab_procedures        101766 non-null  int64 \n",
      " 13  num_procedures            101766 non-null  int64 \n",
      " 14  num_medications           101766 non-null  int64 \n",
      " 15  number_outpatient         101766 non-null  int64 \n",
      " 16  number_emergency          101766 non-null  int64 \n",
      " 17  number_inpatient          101766 non-null  int64 \n",
      " 18  diag_1                    101766 non-null  object\n",
      " 19  diag_2                    101766 non-null  object\n",
      " 20  diag_3                    101766 non-null  object\n",
      " 21  number_diagnoses          101766 non-null  int64 \n",
      " 22  max_glu_serum             101766 non-null  object\n",
      " 23  A1Cresult                 101766 non-null  object\n",
      " 24  metformin                 101766 non-null  object\n",
      " 25  repaglinide               101766 non-null  object\n",
      " 26  nateglinide               101766 non-null  object\n",
      " 27  chlorpropamide            101766 non-null  object\n",
      " 28  glimepiride               101766 non-null  object\n",
      " 29  acetohexamide             101766 non-null  object\n",
      " 30  glipizide                 101766 non-null  object\n",
      " 31  glyburide                 101766 non-null  object\n",
      " 32  tolbutamide               101766 non-null  object\n",
      " 33  pioglitazone              101766 non-null  object\n",
      " 34  rosiglitazone             101766 non-null  object\n",
      " 35  acarbose                  101766 non-null  object\n",
      " 36  miglitol                  101766 non-null  object\n",
      " 37  troglitazone              101766 non-null  object\n",
      " 38  tolazamide                101766 non-null  object\n",
      " 39  examide                   101766 non-null  object\n",
      " 40  citoglipton               101766 non-null  object\n",
      " 41  insulin                   101766 non-null  object\n",
      " 42  glyburide-metformin       101766 non-null  object\n",
      " 43  glipizide-metformin       101766 non-null  object\n",
      " 44  glimepiride-pioglitazone  101766 non-null  object\n",
      " 45  metformin-rosiglitazone   101766 non-null  object\n",
      " 46  metformin-pioglitazone    101766 non-null  object\n",
      " 47  change                    101766 non-null  object\n",
      " 48  diabetesMed               101766 non-null  object\n",
      " 49  readmitted                101766 non-null  object\n",
      "dtypes: int64(13), object(37)\n",
      "memory usage: 38.8+ MB\n"
     ]
    }
   ],
   "source": [
    "Y.info()\n",
    "#Y.columns"
   ]
  },
  {
   "cell_type": "markdown",
   "id": "e5fc93e1",
   "metadata": {},
   "source": [
    "## Описание датасета \"Diabetes 130-US hospitals for years 1999-2008 Data Set\"\n",
    "### Общее описание.\n",
    "   База данных представляет собой выдержку, отражающую 10 лет (1999–2008 гг.) клинической помощи в 130 больницах и интегрированных сетях доставки на всей территории Соединенных Штатов: Средний Запад (18 больниц), Северо-Восток (58), Юг (28) и Запад. (16). База данных содержит данные, систематически собираемые из электронных медицинских карт участвующих учреждений. Он включает более 50 атрибутами, представляющих информацию о пациенте, его болезни,  и результат лечения. Информация была извлечена из базы данных, которые удовлетворяли следующим критериям:\n",
    "* Это стационарная встреча (госпитализация).\n",
    "* Это встреча с диабетом, то есть такая, во время которой любой вид диабета был введен в систему в качестве диагноза.\n",
    "* Продолжительность пребывания составляла не менее 1 дня и не более 14 дней.\n",
    "* Лабораторные тесты проводились во время столкновения.\n",
    "* Лекарства вводили во время встречи.\n",
    "\n",
    "\n",
    "\n",
    " **Encounter ID**:\tNumeric\tUnique identifier of an encounter (Пропущенные значения: 0%).  \n",
    "**Patient number**:\tNumeric\tUnique identifier of a patient\t(Пропущенные значения: 0%).   \n",
    "**Race**\tNominal\tValues: Caucasian, Asian, African American, Hispanic, and other\t(Пропущенные значения: 2%).  \n",
    "**Gender**\tNominal\tValues: male, female, and unknown/invalid\t(Пропущенные значения: 0%).  \n",
    "**Age**\tNominal\tGrouped in 10-year intervals: 0, 10), 10, 20), …, 90, 100)\t(Пропущенные значения: 0%)  \n",
    "**Weight**\tNumeric\tWeight in pounds.\t(Пропущенные значения: 97%)  \n",
    "**Admission type**\tNominal\tInteger identifier corresponding to 9 distinct values, for example, emergency, urgent, elective, newborn, and not available\t(Пропущенные значения: 0%)  \n",
    "**Discharge disposition**\tNominal\tInteger identifier corresponding to 29 distinct values, for example, discharged to home, expired, and not available\t(Пропущенные значения: 0%).  \n",
    "**Admission source**\tNominal\tInteger identifier corresponding to 21 distinct values, for example, physician referral, emergency room, and transfer from a hospital\t(Пропущенные значения: 0%).  \n",
    "**Time in hospital**\tNumeric\tInteger number of days between admission and discharge\t(Пропущенные значения: 0%).  \n",
    "**Payer code**\tNominal\tInteger identifier corresponding to 23 distinct values, for example, Blue Cross/Blue Shield, Medicare, and self-pay\t(Пропущенные значения: 52%).    \n",
    "**Medical specialty**\tNominal\tInteger identifier of a specialty of the admitting physician, corresponding to 84 distinct values, for example, cardiology, internal medicine, family/general practice, and surgeon\t(Пропущенные значения: 53%).  \n",
    "**Number of lab procedures**\tNumeric\tNumber of lab tests performed during the encounter\t(Пропущенные значения: 0%).  \n",
    "**Number of procedures**\tNumeric\tNumber of procedures (other than lab tests) performed during the encounter\t(Пропущенные значения: 0%).  \n",
    "**Number of medications**\tNumeric\tNumber of distinct generic names administered during the encounter\t(Пропущенные значения: 0%).  \n",
    "**Number of outpatient visits**\tNumeric\tNumber of outpatient visits of the patient in the year preceding the encounter\t(Пропущенные значения: 0%).  \n",
    "**Number of emergency visits**\tNumeric\tNumber of emergency visits of the patient in the year preceding the encounter\t(Пропущенные значения: 0%).  \n",
    "**Number of inpatient visits**\tNumeric\tNumber of inpatient visits of the patient in the year preceding the encounter\t(Пропущенные значения: 0%).  \n",
    "**Diagnosis 1**\tNominal\tThe primary diagnosis (coded as first three digits of ICD9); 848 distinct values\t(Пропущенные значения: 0%).  \n",
    "**Diagnosis 2**\tNominal\tSecondary diagnosis (coded as first three digits of ICD9); 923 distinct values\t(Пропущенные значения: 0%).  \n",
    "**Diagnosis 3**\tNominal\tAdditional secondary diagnosis (coded as first three digits of ICD9); 954 distinct values\t(Пропущенные значения: 1%).  \n",
    "**Number of diagnoses**\tNumeric\tNumber of diagnoses entered to the system\t(Пропущенные значения: 0%).  \n",
    "**Glucose serum test result**\tNominal\tIndicates the range of the result or if the test was not taken. Values: “>200,” “>300,” “normal,” and “none” if not measured\t(Пропущенные значения: 0%).  \n",
    "**A1c test result**\tNominal\tIndicates the range of the result or if the test was not taken. Values: “>8” if the result was greater than 8%, “>7” if the result was greater than 7% but less than 8%, “normal” if the result was less than 7%, and “none” if not measured.\t(Пропущенные значения: 0%).  \n",
    "**Change of medications**\tNominal\tIndicates if there was a change in diabetic medications (either dosage or generic name). Values: “change” and “no change”\t(Пропущенные значения: 0%).  \n",
    "**Diabetes medications**\tNominal\tIndicates if there was any diabetic medication prescribed. Values: “yes” and “no”\t(Пропущенные значения: 0%).  \n",
    "**24 features for medications**\tNominal\tFor the generic names: metformin, repaglinide, nateglinide, chlorpropamide, glimepiride, acetohexamide, glipizide, glyburide, tolbutamide, pioglitazone, rosiglitazone, acarbose, miglitol, troglitazone, tolazamide, examide, sitagliptin, insulin, glyburide-metformin, glipizide-metformin, glimepiride-pioglitazone, metformin-rosiglitazone, and metformin-pioglitazone, the feature indicates whether the drug was prescribed or there was a change in the dosage. Values: “up” if the dosage was increased during the encounter, “down” if the dosage was decreased, “steady” if the dosage did not change, and “no” if the drug was not prescribed\t(Пропущенные значения: 0%).  \n",
    "**Readmitted**\tNominal\tDays to inpatient readmission. Values: “<30” if the patient was readmitted in less than 30 days, “>30” if the patient was readmitted in more than 30 days, and “No” for no record of readmission.\t(Пропущенные значения: 0%).  \n"
   ]
  },
  {
   "cell_type": "code",
   "execution_count": 5,
   "id": "e74aa285",
   "metadata": {},
   "outputs": [
    {
     "data": {
      "text/plain": [
       "encounter_id                0.0\n",
       "patient_nbr                 0.0\n",
       "race                        0.0\n",
       "gender                      0.0\n",
       "age                         0.0\n",
       "weight                      0.0\n",
       "admission_type_id           0.0\n",
       "discharge_disposition_id    0.0\n",
       "admission_source_id         0.0\n",
       "time_in_hospital            0.0\n",
       "payer_code                  0.0\n",
       "medical_specialty           0.0\n",
       "num_lab_procedures          0.0\n",
       "num_procedures              0.0\n",
       "num_medications             0.0\n",
       "number_outpatient           0.0\n",
       "number_emergency            0.0\n",
       "number_inpatient            0.0\n",
       "diag_1                      0.0\n",
       "diag_2                      0.0\n",
       "diag_3                      0.0\n",
       "number_diagnoses            0.0\n",
       "max_glu_serum               0.0\n",
       "A1Cresult                   0.0\n",
       "metformin                   0.0\n",
       "repaglinide                 0.0\n",
       "nateglinide                 0.0\n",
       "chlorpropamide              0.0\n",
       "glimepiride                 0.0\n",
       "acetohexamide               0.0\n",
       "glipizide                   0.0\n",
       "glyburide                   0.0\n",
       "tolbutamide                 0.0\n",
       "pioglitazone                0.0\n",
       "rosiglitazone               0.0\n",
       "acarbose                    0.0\n",
       "miglitol                    0.0\n",
       "troglitazone                0.0\n",
       "tolazamide                  0.0\n",
       "examide                     0.0\n",
       "citoglipton                 0.0\n",
       "insulin                     0.0\n",
       "glyburide-metformin         0.0\n",
       "glipizide-metformin         0.0\n",
       "glimepiride-pioglitazone    0.0\n",
       "metformin-rosiglitazone     0.0\n",
       "metformin-pioglitazone      0.0\n",
       "change                      0.0\n",
       "diabetesMed                 0.0\n",
       "readmitted                  0.0\n",
       "dtype: float64"
      ]
     },
     "execution_count": 5,
     "metadata": {},
     "output_type": "execute_result"
    }
   ],
   "source": [
    "Y.isna().mean()\n",
    "#Смотрим на пропущенные значения"
   ]
  },
  {
   "cell_type": "code",
   "execution_count": 6,
   "id": "8e5c818c",
   "metadata": {},
   "outputs": [
    {
     "data": {
      "text/html": [
       "<style  type=\"text/css\" >\n",
       "#T_046cf_row0_col0,#T_046cf_row1_col1,#T_046cf_row2_col2,#T_046cf_row3_col3,#T_046cf_row4_col4,#T_046cf_row5_col5,#T_046cf_row6_col6,#T_046cf_row7_col7,#T_046cf_row8_col8,#T_046cf_row9_col9,#T_046cf_row10_col10,#T_046cf_row11_col11,#T_046cf_row12_col12{\n",
       "            background-color:  #b40426;\n",
       "            color:  #f1f1f1;\n",
       "        }#T_046cf_row0_col1{\n",
       "            background-color:  #edd1c2;\n",
       "            color:  #000000;\n",
       "        }#T_046cf_row0_col2,#T_046cf_row0_col3,#T_046cf_row0_col5,#T_046cf_row1_col3,#T_046cf_row2_col0,#T_046cf_row2_col6,#T_046cf_row2_col12,#T_046cf_row3_col1,#T_046cf_row4_col7,#T_046cf_row4_col8,#T_046cf_row7_col4,#T_046cf_row7_col9,#T_046cf_row7_col10,#T_046cf_row7_col11{\n",
       "            background-color:  #3b4cc0;\n",
       "            color:  #f1f1f1;\n",
       "        }#T_046cf_row0_col4,#T_046cf_row3_col0{\n",
       "            background-color:  #4055c8;\n",
       "            color:  #f1f1f1;\n",
       "        }#T_046cf_row0_col6,#T_046cf_row11_col2{\n",
       "            background-color:  #5a78e4;\n",
       "            color:  #000000;\n",
       "        }#T_046cf_row0_col7,#T_046cf_row1_col7,#T_046cf_row7_col1{\n",
       "            background-color:  #5b7ae5;\n",
       "            color:  #000000;\n",
       "        }#T_046cf_row0_col8,#T_046cf_row7_col0,#T_046cf_row8_col11,#T_046cf_row9_col10,#T_046cf_row10_col6{\n",
       "            background-color:  #6180e9;\n",
       "            color:  #000000;\n",
       "        }#T_046cf_row0_col9,#T_046cf_row1_col2,#T_046cf_row1_col9,#T_046cf_row2_col8,#T_046cf_row5_col2,#T_046cf_row11_col5{\n",
       "            background-color:  #6282ea;\n",
       "            color:  #000000;\n",
       "        }#T_046cf_row0_col10,#T_046cf_row6_col0,#T_046cf_row10_col9,#T_046cf_row12_col9{\n",
       "            background-color:  #5e7de7;\n",
       "            color:  #000000;\n",
       "        }#T_046cf_row0_col11,#T_046cf_row1_col4,#T_046cf_row4_col1,#T_046cf_row12_col10{\n",
       "            background-color:  #5673e0;\n",
       "            color:  #000000;\n",
       "        }#T_046cf_row0_col12{\n",
       "            background-color:  #adc9fd;\n",
       "            color:  #000000;\n",
       "        }#T_046cf_row1_col0{\n",
       "            background-color:  #efcfbf;\n",
       "            color:  #000000;\n",
       "        }#T_046cf_row1_col5,#T_046cf_row12_col2{\n",
       "            background-color:  #455cce;\n",
       "            color:  #f1f1f1;\n",
       "        }#T_046cf_row1_col6,#T_046cf_row8_col1,#T_046cf_row11_col3{\n",
       "            background-color:  #6687ed;\n",
       "            color:  #000000;\n",
       "        }#T_046cf_row1_col8,#T_046cf_row1_col11,#T_046cf_row8_col4{\n",
       "            background-color:  #506bda;\n",
       "            color:  #000000;\n",
       "        }#T_046cf_row1_col10,#T_046cf_row4_col10,#T_046cf_row4_col11,#T_046cf_row9_col7,#T_046cf_row9_col8{\n",
       "            background-color:  #5875e1;\n",
       "            color:  #000000;\n",
       "        }#T_046cf_row1_col12,#T_046cf_row6_col8{\n",
       "            background-color:  #a1c0ff;\n",
       "            color:  #000000;\n",
       "        }#T_046cf_row2_col1,#T_046cf_row5_col4,#T_046cf_row9_col3,#T_046cf_row11_col8{\n",
       "            background-color:  #5d7ce6;\n",
       "            color:  #000000;\n",
       "        }#T_046cf_row2_col3{\n",
       "            background-color:  #799cf8;\n",
       "            color:  #000000;\n",
       "        }#T_046cf_row2_col4,#T_046cf_row3_col5,#T_046cf_row9_col1{\n",
       "            background-color:  #80a3fa;\n",
       "            color:  #000000;\n",
       "        }#T_046cf_row2_col5{\n",
       "            background-color:  #485fd1;\n",
       "            color:  #f1f1f1;\n",
       "        }#T_046cf_row2_col7{\n",
       "            background-color:  #86a9fc;\n",
       "            color:  #000000;\n",
       "        }#T_046cf_row2_col9,#T_046cf_row8_col10,#T_046cf_row9_col5,#T_046cf_row10_col5{\n",
       "            background-color:  #4961d2;\n",
       "            color:  #f1f1f1;\n",
       "        }#T_046cf_row2_col10,#T_046cf_row3_col9,#T_046cf_row6_col9{\n",
       "            background-color:  #3f53c6;\n",
       "            color:  #f1f1f1;\n",
       "        }#T_046cf_row2_col11{\n",
       "            background-color:  #4257c9;\n",
       "            color:  #f1f1f1;\n",
       "        }#T_046cf_row3_col2,#T_046cf_row10_col0{\n",
       "            background-color:  #7ea1fa;\n",
       "            color:  #000000;\n",
       "        }#T_046cf_row3_col4,#T_046cf_row3_col7,#T_046cf_row4_col3,#T_046cf_row6_col1,#T_046cf_row7_col3{\n",
       "            background-color:  #6485ec;\n",
       "            color:  #000000;\n",
       "        }#T_046cf_row3_col6,#T_046cf_row3_col12{\n",
       "            background-color:  #688aef;\n",
       "            color:  #000000;\n",
       "        }#T_046cf_row3_col8,#T_046cf_row10_col12{\n",
       "            background-color:  #6b8df0;\n",
       "            color:  #000000;\n",
       "        }#T_046cf_row3_col10,#T_046cf_row5_col9,#T_046cf_row6_col2{\n",
       "            background-color:  #3e51c5;\n",
       "            color:  #f1f1f1;\n",
       "        }#T_046cf_row3_col11{\n",
       "            background-color:  #536edd;\n",
       "            color:  #000000;\n",
       "        }#T_046cf_row4_col0{\n",
       "            background-color:  #465ecf;\n",
       "            color:  #f1f1f1;\n",
       "        }#T_046cf_row4_col2,#T_046cf_row9_col0{\n",
       "            background-color:  #85a8fc;\n",
       "            color:  #000000;\n",
       "        }#T_046cf_row4_col5,#T_046cf_row4_col9{\n",
       "            background-color:  #4a63d3;\n",
       "            color:  #f1f1f1;\n",
       "        }#T_046cf_row4_col6,#T_046cf_row4_col12,#T_046cf_row6_col7,#T_046cf_row7_col12{\n",
       "            background-color:  #7093f3;\n",
       "            color:  #000000;\n",
       "        }#T_046cf_row5_col0,#T_046cf_row10_col7{\n",
       "            background-color:  #5470de;\n",
       "            color:  #000000;\n",
       "        }#T_046cf_row5_col1,#T_046cf_row6_col11,#T_046cf_row10_col3{\n",
       "            background-color:  #5977e3;\n",
       "            color:  #000000;\n",
       "        }#T_046cf_row5_col3{\n",
       "            background-color:  #92b4fe;\n",
       "            color:  #000000;\n",
       "        }#T_046cf_row5_col6{\n",
       "            background-color:  #c1d4f4;\n",
       "            color:  #000000;\n",
       "        }#T_046cf_row5_col7{\n",
       "            background-color:  #9abbff;\n",
       "            color:  #000000;\n",
       "        }#T_046cf_row5_col8{\n",
       "            background-color:  #dbdcde;\n",
       "            color:  #000000;\n",
       "        }#T_046cf_row5_col10{\n",
       "            background-color:  #4358cb;\n",
       "            color:  #f1f1f1;\n",
       "        }#T_046cf_row5_col11,#T_046cf_row11_col1,#T_046cf_row11_col9{\n",
       "            background-color:  #6384eb;\n",
       "            color:  #000000;\n",
       "        }#T_046cf_row5_col12{\n",
       "            background-color:  #9fbfff;\n",
       "            color:  #000000;\n",
       "        }#T_046cf_row6_col3,#T_046cf_row9_col4{\n",
       "            background-color:  #6788ee;\n",
       "            color:  #000000;\n",
       "        }#T_046cf_row6_col4,#T_046cf_row9_col11,#T_046cf_row11_col0,#T_046cf_row12_col3,#T_046cf_row12_col11{\n",
       "            background-color:  #6e90f2;\n",
       "            color:  #000000;\n",
       "        }#T_046cf_row6_col5{\n",
       "            background-color:  #b2ccfb;\n",
       "            color:  #000000;\n",
       "        }#T_046cf_row6_col10{\n",
       "            background-color:  #445acc;\n",
       "            color:  #f1f1f1;\n",
       "        }#T_046cf_row6_col12,#T_046cf_row7_col5{\n",
       "            background-color:  #89acfd;\n",
       "            color:  #000000;\n",
       "        }#T_046cf_row7_col2{\n",
       "            background-color:  #8caffe;\n",
       "            color:  #000000;\n",
       "        }#T_046cf_row7_col6{\n",
       "            background-color:  #7396f5;\n",
       "            color:  #000000;\n",
       "        }#T_046cf_row7_col8{\n",
       "            background-color:  #c5d6f2;\n",
       "            color:  #000000;\n",
       "        }#T_046cf_row8_col0{\n",
       "            background-color:  #7b9ff9;\n",
       "            color:  #000000;\n",
       "        }#T_046cf_row8_col2{\n",
       "            background-color:  #7da0f9;\n",
       "            color:  #000000;\n",
       "        }#T_046cf_row8_col3{\n",
       "            background-color:  #81a4fb;\n",
       "            color:  #000000;\n",
       "        }#T_046cf_row8_col5{\n",
       "            background-color:  #dcdddd;\n",
       "            color:  #000000;\n",
       "        }#T_046cf_row8_col6{\n",
       "            background-color:  #b3cdfb;\n",
       "            color:  #000000;\n",
       "        }#T_046cf_row8_col7{\n",
       "            background-color:  #d2dbe8;\n",
       "            color:  #000000;\n",
       "        }#T_046cf_row8_col9{\n",
       "            background-color:  #4f69d9;\n",
       "            color:  #000000;\n",
       "        }#T_046cf_row8_col12{\n",
       "            background-color:  #abc8fd;\n",
       "            color:  #000000;\n",
       "        }#T_046cf_row9_col2,#T_046cf_row11_col6{\n",
       "            background-color:  #6c8ff1;\n",
       "            color:  #000000;\n",
       "        }#T_046cf_row9_col6,#T_046cf_row10_col2{\n",
       "            background-color:  #5f7fe8;\n",
       "            color:  #000000;\n",
       "        }#T_046cf_row9_col12{\n",
       "            background-color:  #779af7;\n",
       "            color:  #000000;\n",
       "        }#T_046cf_row10_col1,#T_046cf_row10_col4{\n",
       "            background-color:  #7295f4;\n",
       "            color:  #000000;\n",
       "        }#T_046cf_row10_col8{\n",
       "            background-color:  #4e68d8;\n",
       "            color:  #000000;\n",
       "        }#T_046cf_row10_col11{\n",
       "            background-color:  #a2c1ff;\n",
       "            color:  #000000;\n",
       "        }#T_046cf_row11_col4{\n",
       "            background-color:  #6a8bef;\n",
       "            color:  #000000;\n",
       "        }#T_046cf_row11_col7{\n",
       "            background-color:  #4c66d6;\n",
       "            color:  #000000;\n",
       "        }#T_046cf_row11_col10{\n",
       "            background-color:  #9dbdff;\n",
       "            color:  #000000;\n",
       "        }#T_046cf_row11_col12{\n",
       "            background-color:  #7a9df8;\n",
       "            color:  #000000;\n",
       "        }#T_046cf_row12_col0{\n",
       "            background-color:  #b5cdfa;\n",
       "            color:  #000000;\n",
       "        }#T_046cf_row12_col1{\n",
       "            background-color:  #a5c3fe;\n",
       "            color:  #000000;\n",
       "        }#T_046cf_row12_col4{\n",
       "            background-color:  #7597f6;\n",
       "            color:  #000000;\n",
       "        }#T_046cf_row12_col5{\n",
       "            background-color:  #93b5fe;\n",
       "            color:  #000000;\n",
       "        }#T_046cf_row12_col6{\n",
       "            background-color:  #90b2fe;\n",
       "            color:  #000000;\n",
       "        }#T_046cf_row12_col7{\n",
       "            background-color:  #7699f6;\n",
       "            color:  #000000;\n",
       "        }#T_046cf_row12_col8{\n",
       "            background-color:  #9ebeff;\n",
       "            color:  #000000;\n",
       "        }</style><table id=\"T_046cf_\" ><thead>    <tr>        <th class=\"blank level0\" ></th>        <th class=\"col_heading level0 col0\" >encounter_id</th>        <th class=\"col_heading level0 col1\" >patient_nbr</th>        <th class=\"col_heading level0 col2\" >admission_type_id</th>        <th class=\"col_heading level0 col3\" >discharge_disposition_id</th>        <th class=\"col_heading level0 col4\" >admission_source_id</th>        <th class=\"col_heading level0 col5\" >time_in_hospital</th>        <th class=\"col_heading level0 col6\" >num_lab_procedures</th>        <th class=\"col_heading level0 col7\" >num_procedures</th>        <th class=\"col_heading level0 col8\" >num_medications</th>        <th class=\"col_heading level0 col9\" >number_outpatient</th>        <th class=\"col_heading level0 col10\" >number_emergency</th>        <th class=\"col_heading level0 col11\" >number_inpatient</th>        <th class=\"col_heading level0 col12\" >number_diagnoses</th>    </tr></thead><tbody>\n",
       "                <tr>\n",
       "                        <th id=\"T_046cf_level0_row0\" class=\"row_heading level0 row0\" >encounter_id</th>\n",
       "                        <td id=\"T_046cf_row0_col0\" class=\"data row0 col0\" >1.000</td>\n",
       "                        <td id=\"T_046cf_row0_col1\" class=\"data row0 col1\" >0.512</td>\n",
       "                        <td id=\"T_046cf_row0_col2\" class=\"data row0 col2\" >-0.159</td>\n",
       "                        <td id=\"T_046cf_row0_col3\" class=\"data row0 col3\" >-0.133</td>\n",
       "                        <td id=\"T_046cf_row0_col4\" class=\"data row0 col4\" >-0.112</td>\n",
       "                        <td id=\"T_046cf_row0_col5\" class=\"data row0 col5\" >-0.062</td>\n",
       "                        <td id=\"T_046cf_row0_col6\" class=\"data row0 col6\" >-0.026</td>\n",
       "                        <td id=\"T_046cf_row0_col7\" class=\"data row0 col7\" >-0.014</td>\n",
       "                        <td id=\"T_046cf_row0_col8\" class=\"data row0 col8\" >0.076</td>\n",
       "                        <td id=\"T_046cf_row0_col9\" class=\"data row0 col9\" >0.104</td>\n",
       "                        <td id=\"T_046cf_row0_col10\" class=\"data row0 col10\" >0.083</td>\n",
       "                        <td id=\"T_046cf_row0_col11\" class=\"data row0 col11\" >0.031</td>\n",
       "                        <td id=\"T_046cf_row0_col12\" class=\"data row0 col12\" >0.265</td>\n",
       "            </tr>\n",
       "            <tr>\n",
       "                        <th id=\"T_046cf_level0_row1\" class=\"row_heading level0 row1\" >patient_nbr</th>\n",
       "                        <td id=\"T_046cf_row1_col0\" class=\"data row1 col0\" >0.512</td>\n",
       "                        <td id=\"T_046cf_row1_col1\" class=\"data row1 col1\" >1.000</td>\n",
       "                        <td id=\"T_046cf_row1_col2\" class=\"data row1 col2\" >-0.011</td>\n",
       "                        <td id=\"T_046cf_row1_col3\" class=\"data row1 col3\" >-0.137</td>\n",
       "                        <td id=\"T_046cf_row1_col4\" class=\"data row1 col4\" >-0.033</td>\n",
       "                        <td id=\"T_046cf_row1_col5\" class=\"data row1 col5\" >-0.024</td>\n",
       "                        <td id=\"T_046cf_row1_col6\" class=\"data row1 col6\" >0.016</td>\n",
       "                        <td id=\"T_046cf_row1_col7\" class=\"data row1 col7\" >-0.016</td>\n",
       "                        <td id=\"T_046cf_row1_col8\" class=\"data row1 col8\" >0.021</td>\n",
       "                        <td id=\"T_046cf_row1_col9\" class=\"data row1 col9\" >0.103</td>\n",
       "                        <td id=\"T_046cf_row1_col10\" class=\"data row1 col10\" >0.062</td>\n",
       "                        <td id=\"T_046cf_row1_col11\" class=\"data row1 col11\" >0.012</td>\n",
       "                        <td id=\"T_046cf_row1_col12\" class=\"data row1 col12\" >0.227</td>\n",
       "            </tr>\n",
       "            <tr>\n",
       "                        <th id=\"T_046cf_level0_row2\" class=\"row_heading level0 row2\" >admission_type_id</th>\n",
       "                        <td id=\"T_046cf_row2_col0\" class=\"data row2 col0\" >-0.159</td>\n",
       "                        <td id=\"T_046cf_row2_col1\" class=\"data row2 col1\" >-0.011</td>\n",
       "                        <td id=\"T_046cf_row2_col2\" class=\"data row2 col2\" >1.000</td>\n",
       "                        <td id=\"T_046cf_row2_col3\" class=\"data row2 col3\" >0.083</td>\n",
       "                        <td id=\"T_046cf_row2_col4\" class=\"data row2 col4\" >0.107</td>\n",
       "                        <td id=\"T_046cf_row2_col5\" class=\"data row2 col5\" >-0.012</td>\n",
       "                        <td id=\"T_046cf_row2_col6\" class=\"data row2 col6\" >-0.144</td>\n",
       "                        <td id=\"T_046cf_row2_col7\" class=\"data row2 col7\" >0.130</td>\n",
       "                        <td id=\"T_046cf_row2_col8\" class=\"data row2 col8\" >0.080</td>\n",
       "                        <td id=\"T_046cf_row2_col9\" class=\"data row2 col9\" >0.027</td>\n",
       "                        <td id=\"T_046cf_row2_col10\" class=\"data row2 col10\" >-0.019</td>\n",
       "                        <td id=\"T_046cf_row2_col11\" class=\"data row2 col11\" >-0.038</td>\n",
       "                        <td id=\"T_046cf_row2_col12\" class=\"data row2 col12\" >-0.117</td>\n",
       "            </tr>\n",
       "            <tr>\n",
       "                        <th id=\"T_046cf_level0_row3\" class=\"row_heading level0 row3\" >discharge_disposition_id</th>\n",
       "                        <td id=\"T_046cf_row3_col0\" class=\"data row3 col0\" >-0.133</td>\n",
       "                        <td id=\"T_046cf_row3_col1\" class=\"data row3 col1\" >-0.137</td>\n",
       "                        <td id=\"T_046cf_row3_col2\" class=\"data row3 col2\" >0.083</td>\n",
       "                        <td id=\"T_046cf_row3_col3\" class=\"data row3 col3\" >1.000</td>\n",
       "                        <td id=\"T_046cf_row3_col4\" class=\"data row3 col4\" >0.018</td>\n",
       "                        <td id=\"T_046cf_row3_col5\" class=\"data row3 col5\" >0.163</td>\n",
       "                        <td id=\"T_046cf_row3_col6\" class=\"data row3 col6\" >0.023</td>\n",
       "                        <td id=\"T_046cf_row3_col7\" class=\"data row3 col7\" >0.016</td>\n",
       "                        <td id=\"T_046cf_row3_col8\" class=\"data row3 col8\" >0.109</td>\n",
       "                        <td id=\"T_046cf_row3_col9\" class=\"data row3 col9\" >-0.009</td>\n",
       "                        <td id=\"T_046cf_row3_col10\" class=\"data row3 col10\" >-0.024</td>\n",
       "                        <td id=\"T_046cf_row3_col11\" class=\"data row3 col11\" >0.021</td>\n",
       "                        <td id=\"T_046cf_row3_col12\" class=\"data row3 col12\" >0.047</td>\n",
       "            </tr>\n",
       "            <tr>\n",
       "                        <th id=\"T_046cf_level0_row4\" class=\"row_heading level0 row4\" >admission_source_id</th>\n",
       "                        <td id=\"T_046cf_row4_col0\" class=\"data row4 col0\" >-0.112</td>\n",
       "                        <td id=\"T_046cf_row4_col1\" class=\"data row4 col1\" >-0.033</td>\n",
       "                        <td id=\"T_046cf_row4_col2\" class=\"data row4 col2\" >0.107</td>\n",
       "                        <td id=\"T_046cf_row4_col3\" class=\"data row4 col3\" >0.018</td>\n",
       "                        <td id=\"T_046cf_row4_col4\" class=\"data row4 col4\" >1.000</td>\n",
       "                        <td id=\"T_046cf_row4_col5\" class=\"data row4 col5\" >-0.007</td>\n",
       "                        <td id=\"T_046cf_row4_col6\" class=\"data row4 col6\" >0.049</td>\n",
       "                        <td id=\"T_046cf_row4_col7\" class=\"data row4 col7\" >-0.135</td>\n",
       "                        <td id=\"T_046cf_row4_col8\" class=\"data row4 col8\" >-0.055</td>\n",
       "                        <td id=\"T_046cf_row4_col9\" class=\"data row4 col9\" >0.027</td>\n",
       "                        <td id=\"T_046cf_row4_col10\" class=\"data row4 col10\" >0.060</td>\n",
       "                        <td id=\"T_046cf_row4_col11\" class=\"data row4 col11\" >0.036</td>\n",
       "                        <td id=\"T_046cf_row4_col12\" class=\"data row4 col12\" >0.072</td>\n",
       "            </tr>\n",
       "            <tr>\n",
       "                        <th id=\"T_046cf_level0_row5\" class=\"row_heading level0 row5\" >time_in_hospital</th>\n",
       "                        <td id=\"T_046cf_row5_col0\" class=\"data row5 col0\" >-0.062</td>\n",
       "                        <td id=\"T_046cf_row5_col1\" class=\"data row5 col1\" >-0.024</td>\n",
       "                        <td id=\"T_046cf_row5_col2\" class=\"data row5 col2\" >-0.012</td>\n",
       "                        <td id=\"T_046cf_row5_col3\" class=\"data row5 col3\" >0.163</td>\n",
       "                        <td id=\"T_046cf_row5_col4\" class=\"data row5 col4\" >-0.007</td>\n",
       "                        <td id=\"T_046cf_row5_col5\" class=\"data row5 col5\" >1.000</td>\n",
       "                        <td id=\"T_046cf_row5_col6\" class=\"data row5 col6\" >0.318</td>\n",
       "                        <td id=\"T_046cf_row5_col7\" class=\"data row5 col7\" >0.191</td>\n",
       "                        <td id=\"T_046cf_row5_col8\" class=\"data row5 col8\" >0.466</td>\n",
       "                        <td id=\"T_046cf_row5_col9\" class=\"data row5 col9\" >-0.009</td>\n",
       "                        <td id=\"T_046cf_row5_col10\" class=\"data row5 col10\" >-0.010</td>\n",
       "                        <td id=\"T_046cf_row5_col11\" class=\"data row5 col11\" >0.074</td>\n",
       "                        <td id=\"T_046cf_row5_col12\" class=\"data row5 col12\" >0.220</td>\n",
       "            </tr>\n",
       "            <tr>\n",
       "                        <th id=\"T_046cf_level0_row6\" class=\"row_heading level0 row6\" >num_lab_procedures</th>\n",
       "                        <td id=\"T_046cf_row6_col0\" class=\"data row6 col0\" >-0.026</td>\n",
       "                        <td id=\"T_046cf_row6_col1\" class=\"data row6 col1\" >0.016</td>\n",
       "                        <td id=\"T_046cf_row6_col2\" class=\"data row6 col2\" >-0.144</td>\n",
       "                        <td id=\"T_046cf_row6_col3\" class=\"data row6 col3\" >0.023</td>\n",
       "                        <td id=\"T_046cf_row6_col4\" class=\"data row6 col4\" >0.049</td>\n",
       "                        <td id=\"T_046cf_row6_col5\" class=\"data row6 col5\" >0.318</td>\n",
       "                        <td id=\"T_046cf_row6_col6\" class=\"data row6 col6\" >1.000</td>\n",
       "                        <td id=\"T_046cf_row6_col7\" class=\"data row6 col7\" >0.058</td>\n",
       "                        <td id=\"T_046cf_row6_col8\" class=\"data row6 col8\" >0.268</td>\n",
       "                        <td id=\"T_046cf_row6_col9\" class=\"data row6 col9\" >-0.008</td>\n",
       "                        <td id=\"T_046cf_row6_col10\" class=\"data row6 col10\" >-0.002</td>\n",
       "                        <td id=\"T_046cf_row6_col11\" class=\"data row6 col11\" >0.039</td>\n",
       "                        <td id=\"T_046cf_row6_col12\" class=\"data row6 col12\" >0.153</td>\n",
       "            </tr>\n",
       "            <tr>\n",
       "                        <th id=\"T_046cf_level0_row7\" class=\"row_heading level0 row7\" >num_procedures</th>\n",
       "                        <td id=\"T_046cf_row7_col0\" class=\"data row7 col0\" >-0.014</td>\n",
       "                        <td id=\"T_046cf_row7_col1\" class=\"data row7 col1\" >-0.016</td>\n",
       "                        <td id=\"T_046cf_row7_col2\" class=\"data row7 col2\" >0.130</td>\n",
       "                        <td id=\"T_046cf_row7_col3\" class=\"data row7 col3\" >0.016</td>\n",
       "                        <td id=\"T_046cf_row7_col4\" class=\"data row7 col4\" >-0.135</td>\n",
       "                        <td id=\"T_046cf_row7_col5\" class=\"data row7 col5\" >0.191</td>\n",
       "                        <td id=\"T_046cf_row7_col6\" class=\"data row7 col6\" >0.058</td>\n",
       "                        <td id=\"T_046cf_row7_col7\" class=\"data row7 col7\" >1.000</td>\n",
       "                        <td id=\"T_046cf_row7_col8\" class=\"data row7 col8\" >0.386</td>\n",
       "                        <td id=\"T_046cf_row7_col9\" class=\"data row7 col9\" >-0.025</td>\n",
       "                        <td id=\"T_046cf_row7_col10\" class=\"data row7 col10\" >-0.038</td>\n",
       "                        <td id=\"T_046cf_row7_col11\" class=\"data row7 col11\" >-0.066</td>\n",
       "                        <td id=\"T_046cf_row7_col12\" class=\"data row7 col12\" >0.074</td>\n",
       "            </tr>\n",
       "            <tr>\n",
       "                        <th id=\"T_046cf_level0_row8\" class=\"row_heading level0 row8\" >num_medications</th>\n",
       "                        <td id=\"T_046cf_row8_col0\" class=\"data row8 col0\" >0.076</td>\n",
       "                        <td id=\"T_046cf_row8_col1\" class=\"data row8 col1\" >0.021</td>\n",
       "                        <td id=\"T_046cf_row8_col2\" class=\"data row8 col2\" >0.080</td>\n",
       "                        <td id=\"T_046cf_row8_col3\" class=\"data row8 col3\" >0.109</td>\n",
       "                        <td id=\"T_046cf_row8_col4\" class=\"data row8 col4\" >-0.055</td>\n",
       "                        <td id=\"T_046cf_row8_col5\" class=\"data row8 col5\" >0.466</td>\n",
       "                        <td id=\"T_046cf_row8_col6\" class=\"data row8 col6\" >0.268</td>\n",
       "                        <td id=\"T_046cf_row8_col7\" class=\"data row8 col7\" >0.386</td>\n",
       "                        <td id=\"T_046cf_row8_col8\" class=\"data row8 col8\" >1.000</td>\n",
       "                        <td id=\"T_046cf_row8_col9\" class=\"data row8 col9\" >0.045</td>\n",
       "                        <td id=\"T_046cf_row8_col10\" class=\"data row8 col10\" >0.013</td>\n",
       "                        <td id=\"T_046cf_row8_col11\" class=\"data row8 col11\" >0.064</td>\n",
       "                        <td id=\"T_046cf_row8_col12\" class=\"data row8 col12\" >0.262</td>\n",
       "            </tr>\n",
       "            <tr>\n",
       "                        <th id=\"T_046cf_level0_row9\" class=\"row_heading level0 row9\" >number_outpatient</th>\n",
       "                        <td id=\"T_046cf_row9_col0\" class=\"data row9 col0\" >0.104</td>\n",
       "                        <td id=\"T_046cf_row9_col1\" class=\"data row9 col1\" >0.103</td>\n",
       "                        <td id=\"T_046cf_row9_col2\" class=\"data row9 col2\" >0.027</td>\n",
       "                        <td id=\"T_046cf_row9_col3\" class=\"data row9 col3\" >-0.009</td>\n",
       "                        <td id=\"T_046cf_row9_col4\" class=\"data row9 col4\" >0.027</td>\n",
       "                        <td id=\"T_046cf_row9_col5\" class=\"data row9 col5\" >-0.009</td>\n",
       "                        <td id=\"T_046cf_row9_col6\" class=\"data row9 col6\" >-0.008</td>\n",
       "                        <td id=\"T_046cf_row9_col7\" class=\"data row9 col7\" >-0.025</td>\n",
       "                        <td id=\"T_046cf_row9_col8\" class=\"data row9 col8\" >0.045</td>\n",
       "                        <td id=\"T_046cf_row9_col9\" class=\"data row9 col9\" >1.000</td>\n",
       "                        <td id=\"T_046cf_row9_col10\" class=\"data row9 col10\" >0.091</td>\n",
       "                        <td id=\"T_046cf_row9_col11\" class=\"data row9 col11\" >0.107</td>\n",
       "                        <td id=\"T_046cf_row9_col12\" class=\"data row9 col12\" >0.094</td>\n",
       "            </tr>\n",
       "            <tr>\n",
       "                        <th id=\"T_046cf_level0_row10\" class=\"row_heading level0 row10\" >number_emergency</th>\n",
       "                        <td id=\"T_046cf_row10_col0\" class=\"data row10 col0\" >0.083</td>\n",
       "                        <td id=\"T_046cf_row10_col1\" class=\"data row10 col1\" >0.062</td>\n",
       "                        <td id=\"T_046cf_row10_col2\" class=\"data row10 col2\" >-0.019</td>\n",
       "                        <td id=\"T_046cf_row10_col3\" class=\"data row10 col3\" >-0.024</td>\n",
       "                        <td id=\"T_046cf_row10_col4\" class=\"data row10 col4\" >0.060</td>\n",
       "                        <td id=\"T_046cf_row10_col5\" class=\"data row10 col5\" >-0.010</td>\n",
       "                        <td id=\"T_046cf_row10_col6\" class=\"data row10 col6\" >-0.002</td>\n",
       "                        <td id=\"T_046cf_row10_col7\" class=\"data row10 col7\" >-0.038</td>\n",
       "                        <td id=\"T_046cf_row10_col8\" class=\"data row10 col8\" >0.013</td>\n",
       "                        <td id=\"T_046cf_row10_col9\" class=\"data row10 col9\" >0.091</td>\n",
       "                        <td id=\"T_046cf_row10_col10\" class=\"data row10 col10\" >1.000</td>\n",
       "                        <td id=\"T_046cf_row10_col11\" class=\"data row10 col11\" >0.267</td>\n",
       "                        <td id=\"T_046cf_row10_col12\" class=\"data row10 col12\" >0.056</td>\n",
       "            </tr>\n",
       "            <tr>\n",
       "                        <th id=\"T_046cf_level0_row11\" class=\"row_heading level0 row11\" >number_inpatient</th>\n",
       "                        <td id=\"T_046cf_row11_col0\" class=\"data row11 col0\" >0.031</td>\n",
       "                        <td id=\"T_046cf_row11_col1\" class=\"data row11 col1\" >0.012</td>\n",
       "                        <td id=\"T_046cf_row11_col2\" class=\"data row11 col2\" >-0.038</td>\n",
       "                        <td id=\"T_046cf_row11_col3\" class=\"data row11 col3\" >0.021</td>\n",
       "                        <td id=\"T_046cf_row11_col4\" class=\"data row11 col4\" >0.036</td>\n",
       "                        <td id=\"T_046cf_row11_col5\" class=\"data row11 col5\" >0.074</td>\n",
       "                        <td id=\"T_046cf_row11_col6\" class=\"data row11 col6\" >0.039</td>\n",
       "                        <td id=\"T_046cf_row11_col7\" class=\"data row11 col7\" >-0.066</td>\n",
       "                        <td id=\"T_046cf_row11_col8\" class=\"data row11 col8\" >0.064</td>\n",
       "                        <td id=\"T_046cf_row11_col9\" class=\"data row11 col9\" >0.107</td>\n",
       "                        <td id=\"T_046cf_row11_col10\" class=\"data row11 col10\" >0.267</td>\n",
       "                        <td id=\"T_046cf_row11_col11\" class=\"data row11 col11\" >1.000</td>\n",
       "                        <td id=\"T_046cf_row11_col12\" class=\"data row11 col12\" >0.105</td>\n",
       "            </tr>\n",
       "            <tr>\n",
       "                        <th id=\"T_046cf_level0_row12\" class=\"row_heading level0 row12\" >number_diagnoses</th>\n",
       "                        <td id=\"T_046cf_row12_col0\" class=\"data row12 col0\" >0.265</td>\n",
       "                        <td id=\"T_046cf_row12_col1\" class=\"data row12 col1\" >0.227</td>\n",
       "                        <td id=\"T_046cf_row12_col2\" class=\"data row12 col2\" >-0.117</td>\n",
       "                        <td id=\"T_046cf_row12_col3\" class=\"data row12 col3\" >0.047</td>\n",
       "                        <td id=\"T_046cf_row12_col4\" class=\"data row12 col4\" >0.072</td>\n",
       "                        <td id=\"T_046cf_row12_col5\" class=\"data row12 col5\" >0.220</td>\n",
       "                        <td id=\"T_046cf_row12_col6\" class=\"data row12 col6\" >0.153</td>\n",
       "                        <td id=\"T_046cf_row12_col7\" class=\"data row12 col7\" >0.074</td>\n",
       "                        <td id=\"T_046cf_row12_col8\" class=\"data row12 col8\" >0.262</td>\n",
       "                        <td id=\"T_046cf_row12_col9\" class=\"data row12 col9\" >0.094</td>\n",
       "                        <td id=\"T_046cf_row12_col10\" class=\"data row12 col10\" >0.056</td>\n",
       "                        <td id=\"T_046cf_row12_col11\" class=\"data row12 col11\" >0.105</td>\n",
       "                        <td id=\"T_046cf_row12_col12\" class=\"data row12 col12\" >1.000</td>\n",
       "            </tr>\n",
       "    </tbody></table>"
      ],
      "text/plain": [
       "<pandas.io.formats.style.Styler at 0x212fafda100>"
      ]
     },
     "execution_count": 6,
     "metadata": {},
     "output_type": "execute_result"
    }
   ],
   "source": [
    "Y.corr().style.background_gradient(cmap='coolwarm').set_precision(3)\n"
   ]
  },
  {
   "cell_type": "code",
   "execution_count": null,
   "id": "1cc16b7a",
   "metadata": {},
   "outputs": [],
   "source": []
  },
  {
   "cell_type": "markdown",
   "id": "2cd0b60e",
   "metadata": {},
   "source": [
    "#### Вывод\n",
    "Атрибуты слабоколлериванны за исключением других __patient_nbr__ и **encounter_id**\t, а также **num_medications** и\t**time_in_hospital**\n"
   ]
  },
  {
   "cell_type": "markdown",
   "id": "02252de4",
   "metadata": {},
   "source": [
    "# Готовим данные:"
   ]
  },
  {
   "cell_type": "code",
   "execution_count": 7,
   "id": "77f67cf3",
   "metadata": {},
   "outputs": [
    {
     "name": "stdout",
     "output_type": "stream",
     "text": [
      "race 2273\n",
      "gender 0\n",
      "age 0\n",
      "weight 98569\n",
      "payer_code 40256\n",
      "medical_specialty 49949\n",
      "diag_1 21\n",
      "diag_2 358\n",
      "diag_3 1423\n",
      "max_glu_serum 0\n",
      "A1Cresult 0\n",
      "metformin 0\n",
      "repaglinide 0\n",
      "nateglinide 0\n",
      "chlorpropamide 0\n",
      "glimepiride 0\n",
      "acetohexamide 0\n",
      "glipizide 0\n",
      "glyburide 0\n",
      "tolbutamide 0\n",
      "pioglitazone 0\n",
      "rosiglitazone 0\n",
      "acarbose 0\n",
      "miglitol 0\n",
      "troglitazone 0\n",
      "tolazamide 0\n",
      "examide 0\n",
      "citoglipton 0\n",
      "insulin 0\n",
      "glyburide-metformin 0\n",
      "glipizide-metformin 0\n",
      "glimepiride-pioglitazone 0\n",
      "metformin-rosiglitazone 0\n",
      "metformin-pioglitazone 0\n",
      "change 0\n",
      "diabetesMed 0\n",
      "readmitted 0\n"
     ]
    }
   ],
   "source": [
    "#Выведем пропущенные значения:\n",
    "for col in Y.columns:\n",
    "    if Y[col].dtype == object:\n",
    "         print(col,Y[col][Y[col] == '?'].count())"
   ]
  },
  {
   "cell_type": "markdown",
   "id": "51dc7161",
   "metadata": {},
   "source": [
    "Мы начинаем анализировать столбцы последовательно и будем детализировать данные, чтобы искать идеи. Мы будем искать количество пациентов в данных. Как мы знаем, мы можем проверить из столбца «patient_nbr», сколько уникальных пациентов в данных.\n"
   ]
  },
  {
   "cell_type": "code",
   "execution_count": 8,
   "id": "611af373",
   "metadata": {},
   "outputs": [
    {
     "data": {
      "text/plain": [
       "71518"
      ]
     },
     "execution_count": 8,
     "metadata": {},
     "output_type": "execute_result"
    }
   ],
   "source": [
    "len(Y['patient_nbr'].unique())"
   ]
  },
  {
   "cell_type": "markdown",
   "id": "4a7c5109",
   "metadata": {},
   "source": [
    "Мы имеем 71518 уникальных записей с различными пациентами, но данных больше, чем имеется, а значит в этом наборе данных имеются повтроные приемы в больнице с пациентом.\n"
   ]
  },
  {
   "cell_type": "markdown",
   "id": "5f503b29",
   "metadata": {},
   "source": [
    "Удалим атрибуты (столбцы) в которых отсутствуют данные более чем на 20 процентов."
   ]
  },
  {
   "cell_type": "code",
   "execution_count": 9,
   "id": "55417b9d",
   "metadata": {},
   "outputs": [],
   "source": [
    "cats_to_drop = ['encounter_id','patient_nbr','weight','medical_specialty','payer_code']\n",
    "Y = Y.drop(columns=cats_to_drop)"
   ]
  },
  {
   "cell_type": "code",
   "execution_count": 10,
   "id": "46be26e0",
   "metadata": {},
   "outputs": [],
   "source": [
    "Y = Y[Y.race != '?']\n",
    "Y = Y[Y.diag_1  != '?']\n",
    "Y = Y[Y.diag_2  != '?']\n",
    "Y = Y[Y.diag_3   != '?']\n",
    "#Уберем отсутствуещие строки с этими значениями тк их количество незначительно и не сильно будет влиять на количсетво \n",
    "#При желании их можно было поправить: заменить на среднее значение,или ввести свои обозначения для обработки."
   ]
  },
  {
   "cell_type": "markdown",
   "id": "25fb0fae",
   "metadata": {},
   "source": [
    "Рассортируем на категориальные и численные признаки:\n",
    "    "
   ]
  },
  {
   "cell_type": "code",
   "execution_count": 11,
   "id": "3c9ae05b",
   "metadata": {},
   "outputs": [
    {
     "data": {
      "text/plain": [
       "['race',\n",
       " 'gender',\n",
       " 'age',\n",
       " 'diag_1',\n",
       " 'diag_2',\n",
       " 'diag_3',\n",
       " 'max_glu_serum',\n",
       " 'A1Cresult',\n",
       " 'metformin',\n",
       " 'repaglinide',\n",
       " 'nateglinide',\n",
       " 'chlorpropamide',\n",
       " 'glimepiride',\n",
       " 'acetohexamide',\n",
       " 'glipizide',\n",
       " 'glyburide',\n",
       " 'tolbutamide',\n",
       " 'pioglitazone',\n",
       " 'rosiglitazone',\n",
       " 'acarbose',\n",
       " 'miglitol',\n",
       " 'troglitazone',\n",
       " 'tolazamide',\n",
       " 'examide',\n",
       " 'citoglipton',\n",
       " 'insulin',\n",
       " 'glyburide-metformin',\n",
       " 'glipizide-metformin',\n",
       " 'glimepiride-pioglitazone',\n",
       " 'metformin-rosiglitazone',\n",
       " 'metformin-pioglitazone',\n",
       " 'change',\n",
       " 'diabetesMed',\n",
       " 'readmitted']"
      ]
     },
     "execution_count": 11,
     "metadata": {},
     "output_type": "execute_result"
    }
   ],
   "source": [
    "categorical = [c for c in Y.columns if Y[c].dtype.name == 'object']\n",
    "\n",
    "categorical"
   ]
  },
  {
   "cell_type": "code",
   "execution_count": 12,
   "id": "894a099b",
   "metadata": {},
   "outputs": [
    {
     "data": {
      "text/plain": [
       "['admission_type_id',\n",
       " 'discharge_disposition_id',\n",
       " 'admission_source_id',\n",
       " 'time_in_hospital',\n",
       " 'num_lab_procedures',\n",
       " 'num_procedures',\n",
       " 'num_medications',\n",
       " 'number_outpatient',\n",
       " 'number_emergency',\n",
       " 'number_inpatient',\n",
       " 'number_diagnoses']"
      ]
     },
     "execution_count": 12,
     "metadata": {},
     "output_type": "execute_result"
    }
   ],
   "source": [
    "numerical   = [c for c in Y.columns if Y[c].dtype.name != 'object']\n",
    "numerical"
   ]
  },
  {
   "cell_type": "code",
   "execution_count": 13,
   "id": "8a189d21",
   "metadata": {},
   "outputs": [
    {
     "data": {
      "text/plain": [
       "array([[<AxesSubplot:title={'center':'admission_type_id'}>,\n",
       "        <AxesSubplot:title={'center':'discharge_disposition_id'}>,\n",
       "        <AxesSubplot:title={'center':'admission_source_id'}>],\n",
       "       [<AxesSubplot:title={'center':'time_in_hospital'}>,\n",
       "        <AxesSubplot:title={'center':'num_lab_procedures'}>,\n",
       "        <AxesSubplot:title={'center':'num_procedures'}>],\n",
       "       [<AxesSubplot:title={'center':'num_medications'}>,\n",
       "        <AxesSubplot:title={'center':'number_outpatient'}>,\n",
       "        <AxesSubplot:title={'center':'number_emergency'}>],\n",
       "       [<AxesSubplot:title={'center':'number_inpatient'}>,\n",
       "        <AxesSubplot:title={'center':'number_diagnoses'}>,\n",
       "        <AxesSubplot:>]], dtype=object)"
      ]
     },
     "execution_count": 13,
     "metadata": {},
     "output_type": "execute_result"
    },
    {
     "data": {
      "image/png": "[encoded data removed]",
      "text/plain": [
       "<Figure size 1440x1440 with 12 Axes>"
      ]
     },
     "metadata": {
      "needs_background": "light"
     },
     "output_type": "display_data"
    }
   ],
   "source": [
    "Y[numerical].hist(figsize=(20,20),bins=30,color=\"purple\")"
   ]
  },
  {
   "cell_type": "code",
   "execution_count": 14,
   "id": "33b64731",
   "metadata": {},
   "outputs": [
    {
     "name": "stdout",
     "output_type": "stream",
     "text": [
      "race 0\n",
      "gender 0\n",
      "age 0\n",
      "diag_1 0\n",
      "diag_2 0\n",
      "diag_3 0\n",
      "max_glu_serum 0\n",
      "A1Cresult 0\n",
      "metformin 0\n",
      "repaglinide 0\n",
      "nateglinide 0\n",
      "chlorpropamide 0\n",
      "glimepiride 0\n",
      "acetohexamide 0\n",
      "glipizide 0\n",
      "glyburide 0\n",
      "tolbutamide 0\n",
      "pioglitazone 0\n",
      "rosiglitazone 0\n",
      "acarbose 0\n",
      "miglitol 0\n",
      "troglitazone 0\n",
      "tolazamide 0\n",
      "examide 0\n",
      "citoglipton 0\n",
      "insulin 0\n",
      "glyburide-metformin 0\n",
      "glipizide-metformin 0\n",
      "glimepiride-pioglitazone 0\n",
      "metformin-rosiglitazone 0\n",
      "metformin-pioglitazone 0\n",
      "change 0\n",
      "diabetesMed 0\n",
      "readmitted 0\n"
     ]
    }
   ],
   "source": [
    "#Выведем пропущенные значения:\n",
    "for col in Y.columns:\n",
    "    if Y[col].dtype == object:\n",
    "         print(col,Y[col][Y[col] == '?'].count())"
   ]
  },
  {
   "cell_type": "markdown",
   "id": "40415b06",
   "metadata": {},
   "source": [
    "Видно, что пропущенных значений не осталось.\n",
    "##### Теперь поработаем с категориальными признаками"
   ]
  },
  {
   "cell_type": "code",
   "execution_count": 15,
   "id": "c72425b4",
   "metadata": {},
   "outputs": [
    {
     "data": {
      "text/plain": [
       "[70-80)     25306\n",
       "[60-70)     21809\n",
       "[80-90)     16702\n",
       "[50-60)     16697\n",
       "[40-50)      9265\n",
       "[30-40)      3548\n",
       "[90-100)     2717\n",
       "[20-30)      1478\n",
       "[10-20)       466\n",
       "[0-10)         65\n",
       "Name: age, dtype: int64"
      ]
     },
     "execution_count": 15,
     "metadata": {},
     "output_type": "execute_result"
    }
   ],
   "source": [
    "Y['age'].value_counts() "
   ]
  },
  {
   "cell_type": "code",
   "execution_count": 16,
   "id": "911ead26",
   "metadata": {},
   "outputs": [],
   "source": [
    "Y.loc[Y['age']== '[0-10)','age'] = 0;\n",
    "Y.loc[Y['age']== '[10-20)','age'] = 1;\n",
    "Y.loc[Y['age']== '[20-30)','age'] = 2;\n",
    "Y.loc[Y['age']== '[30-40)','age'] = 3;\n",
    "Y.loc[Y['age']== '[40-50)','age'] = 4;\n",
    "Y.loc[Y['age']== '[50-60)','age'] = 5;\n",
    "Y.loc[Y['age']== '[60-70)','age'] = 6;\n",
    "Y.loc[Y['age']== '[70-80)','age'] = 7;\n",
    "Y.loc[Y['age']== '[80-90)','age'] = 8;\n",
    "Y.loc[Y['age']== '[90-100)','age'] = 9;\n",
    "Y['age'] = Y['age'].astype(np.int32)\n"
   ]
  },
  {
   "cell_type": "code",
   "execution_count": 17,
   "id": "c11cb04b",
   "metadata": {},
   "outputs": [
    {
     "data": {
      "text/plain": [
       "7    25306\n",
       "6    21809\n",
       "8    16702\n",
       "5    16697\n",
       "4     9265\n",
       "3     3548\n",
       "9     2717\n",
       "2     1478\n",
       "1      466\n",
       "0       65\n",
       "Name: age, dtype: int64"
      ]
     },
     "execution_count": 17,
     "metadata": {},
     "output_type": "execute_result"
    }
   ],
   "source": [
    "Y['age'].value_counts() "
   ]
  },
  {
   "cell_type": "code",
   "execution_count": 18,
   "id": "8b7e27c1",
   "metadata": {},
   "outputs": [],
   "source": [
    "Y['gender'].value_counts()  \n",
    "Y.drop(Y[Y['gender'] =='Unknown/Invalid'].index, inplace=True)"
   ]
  },
  {
   "cell_type": "code",
   "execution_count": 19,
   "id": "ac354a5b",
   "metadata": {},
   "outputs": [
    {
     "data": {
      "text/plain": [
       "0    52833\n",
       "1    45219\n",
       "Name: gender, dtype: int64"
      ]
     },
     "execution_count": 19,
     "metadata": {},
     "output_type": "execute_result"
    }
   ],
   "source": [
    "Y.loc[Y['gender']== 'Female','gender'] = 0;\n",
    "Y.loc[Y['gender']== 'Male','gender'] = 1;\n",
    "Y['gender'].value_counts()  "
   ]
  },
  {
   "cell_type": "code",
   "execution_count": 20,
   "id": "d2715146",
   "metadata": {},
   "outputs": [
    {
     "data": {
      "text/plain": [
       "Caucasian          75079\n",
       "AfricanAmerican    18881\n",
       "Hispanic            1984\n",
       "Other               1483\n",
       "Asian                625\n",
       "Name: race, dtype: int64"
      ]
     },
     "execution_count": 20,
     "metadata": {},
     "output_type": "execute_result"
    }
   ],
   "source": [
    "Y['race'].value_counts()"
   ]
  },
  {
   "cell_type": "code",
   "execution_count": 21,
   "id": "ad9e02f1",
   "metadata": {},
   "outputs": [],
   "source": [
    "Y.loc[Y['race']== 'Caucasian','race'] = 0;\n",
    "Y.loc[Y['race']== 'AfricanAmerican','race'] = 1;\n",
    "Y.loc[Y['race']== 'Asian','race'] = 2;\n",
    "Y.loc[Y['race']== 'Other','race'] = 4;\n",
    "Y.loc[Y['race']== 'Hispanic','race'] = 3;"
   ]
  },
  {
   "cell_type": "code",
   "execution_count": 22,
   "id": "d444dc0f",
   "metadata": {},
   "outputs": [
    {
     "data": {
      "text/plain": [
       "0    75079\n",
       "1    18881\n",
       "3     1984\n",
       "4     1483\n",
       "2      625\n",
       "Name: race, dtype: int64"
      ]
     },
     "execution_count": 22,
     "metadata": {},
     "output_type": "execute_result"
    }
   ],
   "source": [
    "Y['race'].value_counts()"
   ]
  },
  {
   "cell_type": "code",
   "execution_count": 23,
   "id": "14eb0530",
   "metadata": {},
   "outputs": [
    {
     "data": {
      "text/plain": [
       "None    92844\n",
       "Norm     2532\n",
       ">200     1449\n",
       ">300     1227\n",
       "Name: max_glu_serum, dtype: int64"
      ]
     },
     "execution_count": 23,
     "metadata": {},
     "output_type": "execute_result"
    }
   ],
   "source": [
    "Y['max_glu_serum'].value_counts()  \n",
    "#Порядковый параметр"
   ]
  },
  {
   "cell_type": "code",
   "execution_count": 24,
   "id": "acdae9b3",
   "metadata": {},
   "outputs": [
    {
     "data": {
      "text/plain": [
       "0    92844\n",
       "1     2532\n",
       "2     1449\n",
       "3     1227\n",
       "Name: max_glu_serum, dtype: int64"
      ]
     },
     "execution_count": 24,
     "metadata": {},
     "output_type": "execute_result"
    }
   ],
   "source": [
    " def glu(age):\n",
    "    if age == '>300' :\n",
    "        return 3\n",
    "    elif age == '>200':\n",
    "        return 2\n",
    "    elif age == 'Norm':\n",
    "        return 1\n",
    "    else:\n",
    "        return 0\n",
    "      \n",
    "Y['max_glu_serum'] = Y['max_glu_serum'].apply(glu)\n",
    "Y['max_glu_serum'] = Y['max_glu_serum'].astype(np.int32)\n",
    "Y['max_glu_serum'].value_counts()  "
   ]
  },
  {
   "cell_type": "code",
   "execution_count": 25,
   "id": "576eeff4",
   "metadata": {},
   "outputs": [],
   "source": [
    "Y.loc[Y['race']== 'Caucasian','race'] = 0;\n",
    "Y.loc[Y['race']== 'AfricanAmerican','race'] = 1;"
   ]
  },
  {
   "cell_type": "code",
   "execution_count": 26,
   "id": "a772281b",
   "metadata": {},
   "outputs": [],
   "source": [
    " def A1(A1Cresult):\n",
    "    if A1Cresult == '>8' :\n",
    "        return 3\n",
    "    elif A1Cresult == '>7':\n",
    "        return 2\n",
    "    elif A1Cresult == 'Norm':\n",
    "        return 1\n",
    "    else:\n",
    "        return 0\n",
    "\n",
    "Y['A1Cresult'] = Y['A1Cresult'].apply(A1)\n",
    "Y['A1Cresult'] = Y['A1Cresult'].astype(np.int32)"
   ]
  },
  {
   "cell_type": "code",
   "execution_count": 27,
   "id": "ae8b8653",
   "metadata": {},
   "outputs": [
    {
     "data": {
      "text/plain": [
       "0    81859\n",
       "3     7631\n",
       "1     4854\n",
       "2     3708\n",
       "Name: A1Cresult, dtype: int64"
      ]
     },
     "execution_count": 27,
     "metadata": {},
     "output_type": "execute_result"
    }
   ],
   "source": [
    "Y['A1Cresult'].value_counts()  \n"
   ]
  },
  {
   "cell_type": "markdown",
   "id": "3ba5b8f2",
   "metadata": {},
   "source": [
    "__Для рассмотрения категориальных признаков в виде диагноза необходимо ознакомиться с таблицей в которой обозначены группы болезни и их код.__  \n",
    "* Ссылка : https://www.hindawi.com/journals/bmri/2014/781670/tab2/ "
   ]
  },
  {
   "attachments": {
    "2022-10-23%20%283%29.png": {
     "image/png": "[encoded data removed]"
    }
   },
   "cell_type": "markdown",
   "id": "ba0f878e",
   "metadata": {},
   "source": [
    "![2022-10-23%20%283%29.png](attachment:2022-10-23%20%283%29.png)"
   ]
  },
  {
   "cell_type": "code",
   "execution_count": 28,
   "id": "d70413bc",
   "metadata": {},
   "outputs": [],
   "source": [
    "def disease(x):\n",
    "    num=1\n",
    "    if (str(x).find('V') != -1 or str(x).find('E') != -1):\n",
    "        num = 1 #\"other\"\n",
    "    elif(int(float(x)) in range(630, 680)):\n",
    "        num =2 #\"pregnat\"\n",
    "    elif(int(float(x)) in range(460, 520) or int(float(x)) == 786):\n",
    "        num =3 #\"respiratory\"\n",
    "    elif(int(float(x)) in range(800, 1000)):\n",
    "        num =4 #\"ingury\"\n",
    "    elif( int(float(x)) in range(520, 580) or int(float(x)) == 787):\n",
    "        num = 5#\"digestive\"\n",
    "    elif(int(float(x)) in range(710, 740)):\n",
    "        num = 6#\"musculoskeletal\"\n",
    "    elif(int(float(x)) == 250):\n",
    "        num = 7#\"diabetes\"\n",
    "    elif(int(float(x)) in range(580, 630) or int(float(x)) == 788):\n",
    "        num = 8#\"genitourinary\"\n",
    "    elif(int(float(x)) in range(140, 240)):\n",
    "        num = 9#\"neoplasms\"        \n",
    "    elif(int(float(x)) in range(390, 460) or int(float(x)) == 785):\n",
    "        num = 10#\"circulatori\"   \n",
    "    else:\n",
    "        num = 11 #\"other\"\n",
    "    return num"
   ]
  },
  {
   "cell_type": "code",
   "execution_count": 29,
   "id": "3b66092d",
   "metadata": {},
   "outputs": [
    {
     "data": {
      "text/plain": [
       "428    6730\n",
       "414    6373\n",
       "786    3900\n",
       "410    3514\n",
       "486    3412\n",
       "       ... \n",
       "839       1\n",
       "957       1\n",
       "988       1\n",
       "955       1\n",
       "684       1\n",
       "Name: diag_1, Length: 713, dtype: int64"
      ]
     },
     "execution_count": 29,
     "metadata": {},
     "output_type": "execute_result"
    }
   ],
   "source": [
    "Y = Y[Y.diag_1  != '?']\n",
    "Y['diag_1'].value_counts()"
   ]
  },
  {
   "cell_type": "code",
   "execution_count": 30,
   "id": "a647b94c",
   "metadata": {},
   "outputs": [],
   "source": [
    "Y['diag_1'] = Y['diag_1'].apply(disease)\n"
   ]
  },
  {
   "cell_type": "code",
   "execution_count": 31,
   "id": "0dfa9f55",
   "metadata": {},
   "outputs": [
    {
     "data": {
      "text/plain": [
       "10    29629\n",
       "11    15295\n",
       "3     13993\n",
       "5      9187\n",
       "7      7965\n",
       "4      6703\n",
       "8      4983\n",
       "6      4739\n",
       "9      3312\n",
       "1      1601\n",
       "2       645\n",
       "Name: diag_1, dtype: int64"
      ]
     },
     "execution_count": 31,
     "metadata": {},
     "output_type": "execute_result"
    }
   ],
   "source": [
    "Y['diag_1'].value_counts()  "
   ]
  },
  {
   "cell_type": "code",
   "execution_count": 32,
   "id": "44da1d65",
   "metadata": {},
   "outputs": [
    {
     "data": {
      "text/plain": [
       "428    6517\n",
       "276    6513\n",
       "250    5412\n",
       "427    4919\n",
       "401    3613\n",
       "       ... \n",
       "832       1\n",
       "871       1\n",
       "256       1\n",
       "186       1\n",
       "353       1\n",
       "Name: diag_2, Length: 740, dtype: int64"
      ]
     },
     "execution_count": 32,
     "metadata": {},
     "output_type": "execute_result"
    }
   ],
   "source": [
    "Y['diag_2'].value_counts()  "
   ]
  },
  {
   "cell_type": "code",
   "execution_count": 33,
   "id": "19a2fb40",
   "metadata": {},
   "outputs": [],
   "source": [
    "Y['diag_2'] = Y['diag_2'].apply(disease)"
   ]
  },
  {
   "cell_type": "code",
   "execution_count": 34,
   "id": "8c5e42ce",
   "metadata": {},
   "outputs": [
    {
     "data": {
      "text/plain": [
       "10    31103\n",
       "11    22809\n",
       "7     11862\n",
       "3     10637\n",
       "8      8203\n",
       "5      4049\n",
       "9      2493\n",
       "1      2451\n",
       "4      2328\n",
       "6      1710\n",
       "2       407\n",
       "Name: diag_2, dtype: int64"
      ]
     },
     "execution_count": 34,
     "metadata": {},
     "output_type": "execute_result"
    }
   ],
   "source": [
    "Y['diag_2'].value_counts()  "
   ]
  },
  {
   "cell_type": "code",
   "execution_count": 35,
   "id": "701a93e2",
   "metadata": {},
   "outputs": [
    {
     "data": {
      "text/plain": [
       "250     11208\n",
       "401      8089\n",
       "276      5097\n",
       "428      4491\n",
       "427      3865\n",
       "        ...  \n",
       "877         1\n",
       "E892        1\n",
       "684         1\n",
       "E815        1\n",
       "E882        1\n",
       "Name: diag_3, Length: 786, dtype: int64"
      ]
     },
     "execution_count": 35,
     "metadata": {},
     "output_type": "execute_result"
    }
   ],
   "source": [
    "Y['diag_3'].value_counts()  "
   ]
  },
  {
   "cell_type": "code",
   "execution_count": 36,
   "id": "58a78114",
   "metadata": {},
   "outputs": [],
   "source": [
    "Y['diag_3'] = Y['diag_3'].apply(disease)"
   ]
  },
  {
   "cell_type": "code",
   "execution_count": 37,
   "id": "b4058e4f",
   "metadata": {},
   "outputs": [
    {
     "data": {
      "text/plain": [
       "10    29631\n",
       "11    23300\n",
       "7     16695\n",
       "3      7199\n",
       "8      6527\n",
       "1      4974\n",
       "5      3852\n",
       "4      1890\n",
       "6      1862\n",
       "9      1820\n",
       "2       302\n",
       "Name: diag_3, dtype: int64"
      ]
     },
     "execution_count": 37,
     "metadata": {},
     "output_type": "execute_result"
    }
   ],
   "source": [
    "Y['diag_3'].value_counts()  "
   ]
  },
  {
   "cell_type": "code",
   "execution_count": 38,
   "id": "2be3ac8b",
   "metadata": {
    "scrolled": true
   },
   "outputs": [
    {
     "data": {
      "text/plain": [
       "NO     52337\n",
       ">30    34649\n",
       "<30    11066\n",
       "Name: readmitted, dtype: int64"
      ]
     },
     "execution_count": 38,
     "metadata": {},
     "output_type": "execute_result"
    }
   ],
   "source": [
    "Y['readmitted'].value_counts()\n"
   ]
  },
  {
   "cell_type": "code",
   "execution_count": 39,
   "id": "96a615c6",
   "metadata": {},
   "outputs": [
    {
     "data": {
      "text/plain": [
       "Yes    75350\n",
       "No     22702\n",
       "Name: diabetesMed, dtype: int64"
      ]
     },
     "execution_count": 39,
     "metadata": {},
     "output_type": "execute_result"
    }
   ],
   "source": [
    "Y['diabetesMed'].value_counts()"
   ]
  },
  {
   "cell_type": "code",
   "execution_count": 40,
   "id": "2221a829",
   "metadata": {},
   "outputs": [
    {
     "data": {
      "text/plain": [
       "0    75350\n",
       "1    22702\n",
       "Name: diabetesMed, dtype: int64"
      ]
     },
     "execution_count": 40,
     "metadata": {},
     "output_type": "execute_result"
    }
   ],
   "source": [
    "Y.loc[Y['diabetesMed']== 'Yes','diabetesMed'] = 0;\n",
    "Y.loc[Y['diabetesMed']== 'No','diabetesMed'] = 1;\n",
    "Y['diabetesMed'].value_counts() "
   ]
  },
  {
   "cell_type": "code",
   "execution_count": 41,
   "id": "563a3a95",
   "metadata": {},
   "outputs": [
    {
     "data": {
      "text/plain": [
       "No    52774\n",
       "Ch    45278\n",
       "Name: change, dtype: int64"
      ]
     },
     "execution_count": 41,
     "metadata": {},
     "output_type": "execute_result"
    }
   ],
   "source": [
    "Y['change'].value_counts()"
   ]
  },
  {
   "cell_type": "code",
   "execution_count": 42,
   "id": "aa380274",
   "metadata": {},
   "outputs": [],
   "source": [
    "#Нашла эту функцию гугля ошибку)\n",
    "Y['change'] = Y['change'].replace('Ch', 1)\n",
    "Y['change'] = Y['change'].replace('No', 0)"
   ]
  },
  {
   "cell_type": "code",
   "execution_count": 43,
   "id": "2c3ba962",
   "metadata": {},
   "outputs": [
    {
     "data": {
      "text/plain": [
       "0    52774\n",
       "1    45278\n",
       "Name: change, dtype: int64"
      ]
     },
     "execution_count": 43,
     "metadata": {},
     "output_type": "execute_result"
    }
   ],
   "source": [
    "Y['change'].value_counts()"
   ]
  },
  {
   "cell_type": "markdown",
   "id": "7fefa806",
   "metadata": {},
   "source": [
    "На счет данных с таблеток взяла описание этого с сайта:\n",
    "Для непатентованных названий: метформин, репаглинид, натеглинид, хлорпропамид, глимепирид, ацетогексамид, глипизид, глибурид, толбутамид, пиоглитазон, розиглитазон, акарбоза, миглитол, троглитазон, толазамид, экзаменид, ситаглиптин, инсулин, глибурид-метформин, глипизид-метформин, глимепирид -пиоглитазон, метформин-росиглитазон и метформин-пиоглитазон признак указывает на то, был ли назначен препарат или имело место изменение дозировки. Значения: «вверх», если доза была увеличена во время встречи, «вниз», если доза была уменьшена, «постоянно», если доза не изменилась, и «нет», если препарат не назначался."
   ]
  },
  {
   "cell_type": "code",
   "execution_count": 44,
   "id": "4c43101c",
   "metadata": {},
   "outputs": [],
   "source": [
    "name = ['metformin', 'repaglinide', 'nateglinide', 'chlorpropamide', 'glimepiride', 'glipizide', 'glyburide', 'pioglitazone', 'citoglipton' ,'rosiglitazone', 'acarbose', 'miglitol', 'insulin', 'glyburide-metformin', 'tolazamide', 'metformin-pioglitazone','metformin-rosiglitazone', 'glimepiride-pioglitazone', 'glipizide-metformin', 'troglitazone', 'tolbutamide', 'acetohexamide','examide']\n",
    "for i in name:\n",
    "    Y[i] = Y[i].replace(\"Up\", 1)\n",
    "    Y[i] = Y[i].replace(\"Steady\", 1)\n",
    "    Y[i] = Y[i].replace(\"Down\", 1)\n",
    "    Y[i] = Y[i].replace(\"No\", 0)\n",
    "    "
   ]
  },
  {
   "cell_type": "code",
   "execution_count": 45,
   "id": "112ecee3",
   "metadata": {},
   "outputs": [
    {
     "data": {
      "text/html": [
       "<div>\n",
       "<style scoped>\n",
       "    .dataframe tbody tr th:only-of-type {\n",
       "        vertical-align: middle;\n",
       "    }\n",
       "\n",
       "    .dataframe tbody tr th {\n",
       "        vertical-align: top;\n",
       "    }\n",
       "\n",
       "    .dataframe thead th {\n",
       "        text-align: right;\n",
       "    }\n",
       "</style>\n",
       "<table border=\"1\" class=\"dataframe\">\n",
       "  <thead>\n",
       "    <tr style=\"text-align: right;\">\n",
       "      <th></th>\n",
       "      <th>metformin</th>\n",
       "      <th>repaglinide</th>\n",
       "      <th>nateglinide</th>\n",
       "      <th>chlorpropamide</th>\n",
       "      <th>glimepiride</th>\n",
       "      <th>glipizide</th>\n",
       "      <th>glyburide</th>\n",
       "      <th>pioglitazone</th>\n",
       "      <th>citoglipton</th>\n",
       "      <th>rosiglitazone</th>\n",
       "      <th>...</th>\n",
       "      <th>glyburide-metformin</th>\n",
       "      <th>tolazamide</th>\n",
       "      <th>metformin-pioglitazone</th>\n",
       "      <th>metformin-rosiglitazone</th>\n",
       "      <th>glimepiride-pioglitazone</th>\n",
       "      <th>glipizide-metformin</th>\n",
       "      <th>troglitazone</th>\n",
       "      <th>tolbutamide</th>\n",
       "      <th>acetohexamide</th>\n",
       "      <th>examide</th>\n",
       "    </tr>\n",
       "  </thead>\n",
       "  <tbody>\n",
       "    <tr>\n",
       "      <th>1</th>\n",
       "      <td>0</td>\n",
       "      <td>0</td>\n",
       "      <td>0</td>\n",
       "      <td>0</td>\n",
       "      <td>0</td>\n",
       "      <td>0</td>\n",
       "      <td>0</td>\n",
       "      <td>0</td>\n",
       "      <td>0</td>\n",
       "      <td>0</td>\n",
       "      <td>...</td>\n",
       "      <td>0</td>\n",
       "      <td>0</td>\n",
       "      <td>0</td>\n",
       "      <td>0</td>\n",
       "      <td>0</td>\n",
       "      <td>0</td>\n",
       "      <td>0</td>\n",
       "      <td>0</td>\n",
       "      <td>0</td>\n",
       "      <td>0</td>\n",
       "    </tr>\n",
       "    <tr>\n",
       "      <th>2</th>\n",
       "      <td>0</td>\n",
       "      <td>0</td>\n",
       "      <td>0</td>\n",
       "      <td>0</td>\n",
       "      <td>0</td>\n",
       "      <td>1</td>\n",
       "      <td>0</td>\n",
       "      <td>0</td>\n",
       "      <td>0</td>\n",
       "      <td>0</td>\n",
       "      <td>...</td>\n",
       "      <td>0</td>\n",
       "      <td>0</td>\n",
       "      <td>0</td>\n",
       "      <td>0</td>\n",
       "      <td>0</td>\n",
       "      <td>0</td>\n",
       "      <td>0</td>\n",
       "      <td>0</td>\n",
       "      <td>0</td>\n",
       "      <td>0</td>\n",
       "    </tr>\n",
       "    <tr>\n",
       "      <th>3</th>\n",
       "      <td>0</td>\n",
       "      <td>0</td>\n",
       "      <td>0</td>\n",
       "      <td>0</td>\n",
       "      <td>0</td>\n",
       "      <td>0</td>\n",
       "      <td>0</td>\n",
       "      <td>0</td>\n",
       "      <td>0</td>\n",
       "      <td>0</td>\n",
       "      <td>...</td>\n",
       "      <td>0</td>\n",
       "      <td>0</td>\n",
       "      <td>0</td>\n",
       "      <td>0</td>\n",
       "      <td>0</td>\n",
       "      <td>0</td>\n",
       "      <td>0</td>\n",
       "      <td>0</td>\n",
       "      <td>0</td>\n",
       "      <td>0</td>\n",
       "    </tr>\n",
       "    <tr>\n",
       "      <th>4</th>\n",
       "      <td>0</td>\n",
       "      <td>0</td>\n",
       "      <td>0</td>\n",
       "      <td>0</td>\n",
       "      <td>0</td>\n",
       "      <td>1</td>\n",
       "      <td>0</td>\n",
       "      <td>0</td>\n",
       "      <td>0</td>\n",
       "      <td>0</td>\n",
       "      <td>...</td>\n",
       "      <td>0</td>\n",
       "      <td>0</td>\n",
       "      <td>0</td>\n",
       "      <td>0</td>\n",
       "      <td>0</td>\n",
       "      <td>0</td>\n",
       "      <td>0</td>\n",
       "      <td>0</td>\n",
       "      <td>0</td>\n",
       "      <td>0</td>\n",
       "    </tr>\n",
       "    <tr>\n",
       "      <th>5</th>\n",
       "      <td>0</td>\n",
       "      <td>0</td>\n",
       "      <td>0</td>\n",
       "      <td>0</td>\n",
       "      <td>0</td>\n",
       "      <td>0</td>\n",
       "      <td>0</td>\n",
       "      <td>0</td>\n",
       "      <td>0</td>\n",
       "      <td>0</td>\n",
       "      <td>...</td>\n",
       "      <td>0</td>\n",
       "      <td>0</td>\n",
       "      <td>0</td>\n",
       "      <td>0</td>\n",
       "      <td>0</td>\n",
       "      <td>0</td>\n",
       "      <td>0</td>\n",
       "      <td>0</td>\n",
       "      <td>0</td>\n",
       "      <td>0</td>\n",
       "    </tr>\n",
       "    <tr>\n",
       "      <th>...</th>\n",
       "      <td>...</td>\n",
       "      <td>...</td>\n",
       "      <td>...</td>\n",
       "      <td>...</td>\n",
       "      <td>...</td>\n",
       "      <td>...</td>\n",
       "      <td>...</td>\n",
       "      <td>...</td>\n",
       "      <td>...</td>\n",
       "      <td>...</td>\n",
       "      <td>...</td>\n",
       "      <td>...</td>\n",
       "      <td>...</td>\n",
       "      <td>...</td>\n",
       "      <td>...</td>\n",
       "      <td>...</td>\n",
       "      <td>...</td>\n",
       "      <td>...</td>\n",
       "      <td>...</td>\n",
       "      <td>...</td>\n",
       "      <td>...</td>\n",
       "    </tr>\n",
       "    <tr>\n",
       "      <th>101761</th>\n",
       "      <td>1</td>\n",
       "      <td>0</td>\n",
       "      <td>0</td>\n",
       "      <td>0</td>\n",
       "      <td>0</td>\n",
       "      <td>0</td>\n",
       "      <td>0</td>\n",
       "      <td>0</td>\n",
       "      <td>0</td>\n",
       "      <td>0</td>\n",
       "      <td>...</td>\n",
       "      <td>0</td>\n",
       "      <td>0</td>\n",
       "      <td>0</td>\n",
       "      <td>0</td>\n",
       "      <td>0</td>\n",
       "      <td>0</td>\n",
       "      <td>0</td>\n",
       "      <td>0</td>\n",
       "      <td>0</td>\n",
       "      <td>0</td>\n",
       "    </tr>\n",
       "    <tr>\n",
       "      <th>101762</th>\n",
       "      <td>0</td>\n",
       "      <td>0</td>\n",
       "      <td>0</td>\n",
       "      <td>0</td>\n",
       "      <td>0</td>\n",
       "      <td>0</td>\n",
       "      <td>0</td>\n",
       "      <td>0</td>\n",
       "      <td>0</td>\n",
       "      <td>0</td>\n",
       "      <td>...</td>\n",
       "      <td>0</td>\n",
       "      <td>0</td>\n",
       "      <td>0</td>\n",
       "      <td>0</td>\n",
       "      <td>0</td>\n",
       "      <td>0</td>\n",
       "      <td>0</td>\n",
       "      <td>0</td>\n",
       "      <td>0</td>\n",
       "      <td>0</td>\n",
       "    </tr>\n",
       "    <tr>\n",
       "      <th>101763</th>\n",
       "      <td>1</td>\n",
       "      <td>0</td>\n",
       "      <td>0</td>\n",
       "      <td>0</td>\n",
       "      <td>0</td>\n",
       "      <td>0</td>\n",
       "      <td>0</td>\n",
       "      <td>0</td>\n",
       "      <td>0</td>\n",
       "      <td>0</td>\n",
       "      <td>...</td>\n",
       "      <td>0</td>\n",
       "      <td>0</td>\n",
       "      <td>0</td>\n",
       "      <td>0</td>\n",
       "      <td>0</td>\n",
       "      <td>0</td>\n",
       "      <td>0</td>\n",
       "      <td>0</td>\n",
       "      <td>0</td>\n",
       "      <td>0</td>\n",
       "    </tr>\n",
       "    <tr>\n",
       "      <th>101764</th>\n",
       "      <td>0</td>\n",
       "      <td>0</td>\n",
       "      <td>0</td>\n",
       "      <td>0</td>\n",
       "      <td>0</td>\n",
       "      <td>1</td>\n",
       "      <td>0</td>\n",
       "      <td>1</td>\n",
       "      <td>0</td>\n",
       "      <td>0</td>\n",
       "      <td>...</td>\n",
       "      <td>0</td>\n",
       "      <td>0</td>\n",
       "      <td>0</td>\n",
       "      <td>0</td>\n",
       "      <td>0</td>\n",
       "      <td>0</td>\n",
       "      <td>0</td>\n",
       "      <td>0</td>\n",
       "      <td>0</td>\n",
       "      <td>0</td>\n",
       "    </tr>\n",
       "    <tr>\n",
       "      <th>101765</th>\n",
       "      <td>0</td>\n",
       "      <td>0</td>\n",
       "      <td>0</td>\n",
       "      <td>0</td>\n",
       "      <td>0</td>\n",
       "      <td>0</td>\n",
       "      <td>0</td>\n",
       "      <td>0</td>\n",
       "      <td>0</td>\n",
       "      <td>0</td>\n",
       "      <td>...</td>\n",
       "      <td>0</td>\n",
       "      <td>0</td>\n",
       "      <td>0</td>\n",
       "      <td>0</td>\n",
       "      <td>0</td>\n",
       "      <td>0</td>\n",
       "      <td>0</td>\n",
       "      <td>0</td>\n",
       "      <td>0</td>\n",
       "      <td>0</td>\n",
       "    </tr>\n",
       "  </tbody>\n",
       "</table>\n",
       "<p>98052 rows × 23 columns</p>\n",
       "</div>"
      ],
      "text/plain": [
       "        metformin  repaglinide  nateglinide  chlorpropamide  glimepiride  \\\n",
       "1               0            0            0               0            0   \n",
       "2               0            0            0               0            0   \n",
       "3               0            0            0               0            0   \n",
       "4               0            0            0               0            0   \n",
       "5               0            0            0               0            0   \n",
       "...           ...          ...          ...             ...          ...   \n",
       "101761          1            0            0               0            0   \n",
       "101762          0            0            0               0            0   \n",
       "101763          1            0            0               0            0   \n",
       "101764          0            0            0               0            0   \n",
       "101765          0            0            0               0            0   \n",
       "\n",
       "        glipizide  glyburide  pioglitazone  citoglipton  rosiglitazone  ...  \\\n",
       "1               0          0             0            0              0  ...   \n",
       "2               1          0             0            0              0  ...   \n",
       "3               0          0             0            0              0  ...   \n",
       "4               1          0             0            0              0  ...   \n",
       "5               0          0             0            0              0  ...   \n",
       "...           ...        ...           ...          ...            ...  ...   \n",
       "101761          0          0             0            0              0  ...   \n",
       "101762          0          0             0            0              0  ...   \n",
       "101763          0          0             0            0              0  ...   \n",
       "101764          1          0             1            0              0  ...   \n",
       "101765          0          0             0            0              0  ...   \n",
       "\n",
       "        glyburide-metformin  tolazamide  metformin-pioglitazone  \\\n",
       "1                         0           0                       0   \n",
       "2                         0           0                       0   \n",
       "3                         0           0                       0   \n",
       "4                         0           0                       0   \n",
       "5                         0           0                       0   \n",
       "...                     ...         ...                     ...   \n",
       "101761                    0           0                       0   \n",
       "101762                    0           0                       0   \n",
       "101763                    0           0                       0   \n",
       "101764                    0           0                       0   \n",
       "101765                    0           0                       0   \n",
       "\n",
       "        metformin-rosiglitazone  glimepiride-pioglitazone  \\\n",
       "1                             0                         0   \n",
       "2                             0                         0   \n",
       "3                             0                         0   \n",
       "4                             0                         0   \n",
       "5                             0                         0   \n",
       "...                         ...                       ...   \n",
       "101761                        0                         0   \n",
       "101762                        0                         0   \n",
       "101763                        0                         0   \n",
       "101764                        0                         0   \n",
       "101765                        0                         0   \n",
       "\n",
       "        glipizide-metformin  troglitazone  tolbutamide  acetohexamide  examide  \n",
       "1                         0             0            0              0        0  \n",
       "2                         0             0            0              0        0  \n",
       "3                         0             0            0              0        0  \n",
       "4                         0             0            0              0        0  \n",
       "5                         0             0            0              0        0  \n",
       "...                     ...           ...          ...            ...      ...  \n",
       "101761                    0             0            0              0        0  \n",
       "101762                    0             0            0              0        0  \n",
       "101763                    0             0            0              0        0  \n",
       "101764                    0             0            0              0        0  \n",
       "101765                    0             0            0              0        0  \n",
       "\n",
       "[98052 rows x 23 columns]"
      ]
     },
     "execution_count": 45,
     "metadata": {},
     "output_type": "execute_result"
    }
   ],
   "source": [
    "Y[name]"
   ]
  },
  {
   "cell_type": "markdown",
   "id": "1d798cb2",
   "metadata": {},
   "source": [
    "Посмотрим на данные нашего Таргета:"
   ]
  },
  {
   "cell_type": "code",
   "execution_count": 46,
   "id": "7c74c423",
   "metadata": {},
   "outputs": [
    {
     "data": {
      "image/png": "[encoded data removed]",
      "text/plain": [
       "<Figure size 432x288 with 1 Axes>"
      ]
     },
     "metadata": {
      "needs_background": "light"
     },
     "output_type": "display_data"
    }
   ],
   "source": [
    "sns.countplot(x = \"readmitted\", data = Y)\n",
    "plt.title(\"Distribution of Target Values\")\n",
    "plt.show()\n"
   ]
  },
  {
   "cell_type": "code",
   "execution_count": 47,
   "id": "11fe6114",
   "metadata": {},
   "outputs": [],
   "source": [
    "Y['readmitted'] = Y['readmitted'].replace('<30', 1)\n",
    "Y['readmitted'] = Y['readmitted'].replace('>30', 2)\n",
    "Y['readmitted'] = Y['readmitted'].replace('NO', 0)"
   ]
  },
  {
   "cell_type": "code",
   "execution_count": 48,
   "id": "b8a43a84",
   "metadata": {},
   "outputs": [
    {
     "name": "stdout",
     "output_type": "stream",
     "text": [
      "<class 'pandas.core.frame.DataFrame'>\n",
      "Int64Index: 98052 entries, 1 to 101765\n",
      "Data columns (total 34 columns):\n",
      " #   Column                    Non-Null Count  Dtype \n",
      "---  ------                    --------------  ----- \n",
      " 0   race                      98052 non-null  object\n",
      " 1   gender                    98052 non-null  object\n",
      " 2   age                       98052 non-null  int32 \n",
      " 3   diag_1                    98052 non-null  int64 \n",
      " 4   diag_2                    98052 non-null  int64 \n",
      " 5   diag_3                    98052 non-null  int64 \n",
      " 6   max_glu_serum             98052 non-null  int32 \n",
      " 7   A1Cresult                 98052 non-null  int32 \n",
      " 8   metformin                 98052 non-null  int64 \n",
      " 9   repaglinide               98052 non-null  int64 \n",
      " 10  nateglinide               98052 non-null  int64 \n",
      " 11  chlorpropamide            98052 non-null  int64 \n",
      " 12  glimepiride               98052 non-null  int64 \n",
      " 13  acetohexamide             98052 non-null  int64 \n",
      " 14  glipizide                 98052 non-null  int64 \n",
      " 15  glyburide                 98052 non-null  int64 \n",
      " 16  tolbutamide               98052 non-null  int64 \n",
      " 17  pioglitazone              98052 non-null  int64 \n",
      " 18  rosiglitazone             98052 non-null  int64 \n",
      " 19  acarbose                  98052 non-null  int64 \n",
      " 20  miglitol                  98052 non-null  int64 \n",
      " 21  troglitazone              98052 non-null  int64 \n",
      " 22  tolazamide                98052 non-null  int64 \n",
      " 23  examide                   98052 non-null  int64 \n",
      " 24  citoglipton               98052 non-null  int64 \n",
      " 25  insulin                   98052 non-null  int64 \n",
      " 26  glyburide-metformin       98052 non-null  int64 \n",
      " 27  glipizide-metformin       98052 non-null  int64 \n",
      " 28  glimepiride-pioglitazone  98052 non-null  int64 \n",
      " 29  metformin-rosiglitazone   98052 non-null  int64 \n",
      " 30  metformin-pioglitazone    98052 non-null  int64 \n",
      " 31  change                    98052 non-null  int64 \n",
      " 32  diabetesMed               98052 non-null  object\n",
      " 33  readmitted                98052 non-null  int64 \n",
      "dtypes: int32(3), int64(28), object(3)\n",
      "memory usage: 27.1+ MB\n"
     ]
    }
   ],
   "source": [
    "Y[categorical].info()"
   ]
  },
  {
   "cell_type": "code",
   "execution_count": 49,
   "id": "4336106a",
   "metadata": {},
   "outputs": [
    {
     "data": {
      "text/plain": [
       "1         0\n",
       "2         0\n",
       "3         0\n",
       "4         0\n",
       "5         0\n",
       "         ..\n",
       "101761    0\n",
       "101762    0\n",
       "101763    0\n",
       "101764    0\n",
       "101765    0\n",
       "Name: examide, Length: 98052, dtype: int64"
      ]
     },
     "execution_count": 49,
     "metadata": {},
     "output_type": "execute_result"
    }
   ],
   "source": [
    "Y['examide']"
   ]
  },
  {
   "cell_type": "markdown",
   "id": "8936b855",
   "metadata": {},
   "source": [
    "Производим нормализацию данных с помощью данной формулы.\n",
    "$$\\mathbf{x_i}^{\\text{new}} = \\frac{\\mathbf{x_i} - \\mu_i}{\\sigma_i}$$\n"
   ]
  },
  {
   "cell_type": "code",
   "execution_count": 50,
   "id": "fe7a58fb",
   "metadata": {},
   "outputs": [
    {
     "data": {
      "text/html": [
       "<div>\n",
       "<style scoped>\n",
       "    .dataframe tbody tr th:only-of-type {\n",
       "        vertical-align: middle;\n",
       "    }\n",
       "\n",
       "    .dataframe tbody tr th {\n",
       "        vertical-align: top;\n",
       "    }\n",
       "\n",
       "    .dataframe thead th {\n",
       "        text-align: right;\n",
       "    }\n",
       "</style>\n",
       "<table border=\"1\" class=\"dataframe\">\n",
       "  <thead>\n",
       "    <tr style=\"text-align: right;\">\n",
       "      <th></th>\n",
       "      <th>admission_type_id</th>\n",
       "      <th>discharge_disposition_id</th>\n",
       "      <th>admission_source_id</th>\n",
       "      <th>time_in_hospital</th>\n",
       "      <th>num_lab_procedures</th>\n",
       "      <th>num_procedures</th>\n",
       "      <th>num_medications</th>\n",
       "      <th>number_outpatient</th>\n",
       "      <th>number_emergency</th>\n",
       "      <th>number_inpatient</th>\n",
       "      <th>number_diagnoses</th>\n",
       "    </tr>\n",
       "  </thead>\n",
       "  <tbody>\n",
       "    <tr>\n",
       "      <th>1</th>\n",
       "      <td>-0.707391</td>\n",
       "      <td>-0.518588</td>\n",
       "      <td>0.300435</td>\n",
       "      <td>-0.475101</td>\n",
       "      <td>0.804167</td>\n",
       "      <td>-0.790595</td>\n",
       "      <td>0.231906</td>\n",
       "      <td>-0.293277</td>\n",
       "      <td>-0.214725</td>\n",
       "      <td>-0.508936</td>\n",
       "      <td>0.811966</td>\n",
       "    </tr>\n",
       "    <tr>\n",
       "      <th>2</th>\n",
       "      <td>-0.707391</td>\n",
       "      <td>-0.518588</td>\n",
       "      <td>0.300435</td>\n",
       "      <td>-0.809206</td>\n",
       "      <td>-1.630928</td>\n",
       "      <td>2.135992</td>\n",
       "      <td>-0.384731</td>\n",
       "      <td>1.265125</td>\n",
       "      <td>-0.214725</td>\n",
       "      <td>0.277830</td>\n",
       "      <td>-0.825167</td>\n",
       "    </tr>\n",
       "    <tr>\n",
       "      <th>3</th>\n",
       "      <td>-0.707391</td>\n",
       "      <td>-0.518588</td>\n",
       "      <td>0.300435</td>\n",
       "      <td>-0.809206</td>\n",
       "      <td>0.043199</td>\n",
       "      <td>-0.205278</td>\n",
       "      <td>-0.014749</td>\n",
       "      <td>-0.293277</td>\n",
       "      <td>-0.214725</td>\n",
       "      <td>-0.508936</td>\n",
       "      <td>-0.279456</td>\n",
       "    </tr>\n",
       "    <tr>\n",
       "      <th>4</th>\n",
       "      <td>-0.707391</td>\n",
       "      <td>-0.518588</td>\n",
       "      <td>0.300435</td>\n",
       "      <td>-1.143311</td>\n",
       "      <td>0.398318</td>\n",
       "      <td>-0.790595</td>\n",
       "      <td>-1.001368</td>\n",
       "      <td>-0.293277</td>\n",
       "      <td>-0.214725</td>\n",
       "      <td>-0.508936</td>\n",
       "      <td>-1.370878</td>\n",
       "    </tr>\n",
       "    <tr>\n",
       "      <th>5</th>\n",
       "      <td>-0.017793</td>\n",
       "      <td>-0.518588</td>\n",
       "      <td>-0.927574</td>\n",
       "      <td>-0.475101</td>\n",
       "      <td>-0.616305</td>\n",
       "      <td>2.721309</td>\n",
       "      <td>-0.014749</td>\n",
       "      <td>-0.293277</td>\n",
       "      <td>-0.214725</td>\n",
       "      <td>-0.508936</td>\n",
       "      <td>0.811966</td>\n",
       "    </tr>\n",
       "    <tr>\n",
       "      <th>...</th>\n",
       "      <td>...</td>\n",
       "      <td>...</td>\n",
       "      <td>...</td>\n",
       "      <td>...</td>\n",
       "      <td>...</td>\n",
       "      <td>...</td>\n",
       "      <td>...</td>\n",
       "      <td>...</td>\n",
       "      <td>...</td>\n",
       "      <td>...</td>\n",
       "      <td>...</td>\n",
       "    </tr>\n",
       "    <tr>\n",
       "      <th>101761</th>\n",
       "      <td>-0.707391</td>\n",
       "      <td>-0.141898</td>\n",
       "      <td>0.300435</td>\n",
       "      <td>-0.475101</td>\n",
       "      <td>0.398318</td>\n",
       "      <td>-0.790595</td>\n",
       "      <td>-0.014749</td>\n",
       "      <td>-0.293277</td>\n",
       "      <td>-0.214725</td>\n",
       "      <td>-0.508936</td>\n",
       "      <td>0.811966</td>\n",
       "    </tr>\n",
       "    <tr>\n",
       "      <th>101762</th>\n",
       "      <td>-0.707391</td>\n",
       "      <td>0.046447</td>\n",
       "      <td>-0.190769</td>\n",
       "      <td>0.193109</td>\n",
       "      <td>-0.514843</td>\n",
       "      <td>0.965357</td>\n",
       "      <td>0.231906</td>\n",
       "      <td>-0.293277</td>\n",
       "      <td>-0.214725</td>\n",
       "      <td>0.277830</td>\n",
       "      <td>0.811966</td>\n",
       "    </tr>\n",
       "    <tr>\n",
       "      <th>101763</th>\n",
       "      <td>-0.707391</td>\n",
       "      <td>-0.518588</td>\n",
       "      <td>0.300435</td>\n",
       "      <td>-1.143311</td>\n",
       "      <td>0.499780</td>\n",
       "      <td>-0.790595</td>\n",
       "      <td>-0.878041</td>\n",
       "      <td>0.485924</td>\n",
       "      <td>-0.214725</td>\n",
       "      <td>-0.508936</td>\n",
       "      <td>2.994810</td>\n",
       "    </tr>\n",
       "    <tr>\n",
       "      <th>101764</th>\n",
       "      <td>-0.017793</td>\n",
       "      <td>-0.141898</td>\n",
       "      <td>0.300435</td>\n",
       "      <td>1.863635</td>\n",
       "      <td>0.093931</td>\n",
       "      <td>0.380040</td>\n",
       "      <td>0.601889</td>\n",
       "      <td>-0.293277</td>\n",
       "      <td>-0.214725</td>\n",
       "      <td>0.277830</td>\n",
       "      <td>0.811966</td>\n",
       "    </tr>\n",
       "    <tr>\n",
       "      <th>101765</th>\n",
       "      <td>-0.707391</td>\n",
       "      <td>-0.518588</td>\n",
       "      <td>0.300435</td>\n",
       "      <td>0.527214</td>\n",
       "      <td>-1.529466</td>\n",
       "      <td>0.965357</td>\n",
       "      <td>-1.618005</td>\n",
       "      <td>-0.293277</td>\n",
       "      <td>-0.214725</td>\n",
       "      <td>-0.508936</td>\n",
       "      <td>0.811966</td>\n",
       "    </tr>\n",
       "  </tbody>\n",
       "</table>\n",
       "<p>98052 rows × 11 columns</p>\n",
       "</div>"
      ],
      "text/plain": [
       "        admission_type_id  discharge_disposition_id  admission_source_id  \\\n",
       "1               -0.707391                 -0.518588             0.300435   \n",
       "2               -0.707391                 -0.518588             0.300435   \n",
       "3               -0.707391                 -0.518588             0.300435   \n",
       "4               -0.707391                 -0.518588             0.300435   \n",
       "5               -0.017793                 -0.518588            -0.927574   \n",
       "...                   ...                       ...                  ...   \n",
       "101761          -0.707391                 -0.141898             0.300435   \n",
       "101762          -0.707391                  0.046447            -0.190769   \n",
       "101763          -0.707391                 -0.518588             0.300435   \n",
       "101764          -0.017793                 -0.141898             0.300435   \n",
       "101765          -0.707391                 -0.518588             0.300435   \n",
       "\n",
       "        time_in_hospital  num_lab_procedures  num_procedures  num_medications  \\\n",
       "1              -0.475101            0.804167       -0.790595         0.231906   \n",
       "2              -0.809206           -1.630928        2.135992        -0.384731   \n",
       "3              -0.809206            0.043199       -0.205278        -0.014749   \n",
       "4              -1.143311            0.398318       -0.790595        -1.001368   \n",
       "5              -0.475101           -0.616305        2.721309        -0.014749   \n",
       "...                  ...                 ...             ...              ...   \n",
       "101761         -0.475101            0.398318       -0.790595        -0.014749   \n",
       "101762          0.193109           -0.514843        0.965357         0.231906   \n",
       "101763         -1.143311            0.499780       -0.790595        -0.878041   \n",
       "101764          1.863635            0.093931        0.380040         0.601889   \n",
       "101765          0.527214           -1.529466        0.965357        -1.618005   \n",
       "\n",
       "        number_outpatient  number_emergency  number_inpatient  \\\n",
       "1               -0.293277         -0.214725         -0.508936   \n",
       "2                1.265125         -0.214725          0.277830   \n",
       "3               -0.293277         -0.214725         -0.508936   \n",
       "4               -0.293277         -0.214725         -0.508936   \n",
       "5               -0.293277         -0.214725         -0.508936   \n",
       "...                   ...               ...               ...   \n",
       "101761          -0.293277         -0.214725         -0.508936   \n",
       "101762          -0.293277         -0.214725          0.277830   \n",
       "101763           0.485924         -0.214725         -0.508936   \n",
       "101764          -0.293277         -0.214725          0.277830   \n",
       "101765          -0.293277         -0.214725         -0.508936   \n",
       "\n",
       "        number_diagnoses  \n",
       "1               0.811966  \n",
       "2              -0.825167  \n",
       "3              -0.279456  \n",
       "4              -1.370878  \n",
       "5               0.811966  \n",
       "...                  ...  \n",
       "101761          0.811966  \n",
       "101762          0.811966  \n",
       "101763          2.994810  \n",
       "101764          0.811966  \n",
       "101765          0.811966  \n",
       "\n",
       "[98052 rows x 11 columns]"
      ]
     },
     "execution_count": 50,
     "metadata": {},
     "output_type": "execute_result"
    }
   ],
   "source": [
    "data = Y[numerical]\n",
    "Y[numerical] = (data - data.mean(axis = 0))/data.std(axis = 0)\n",
    "Y[numerical]"
   ]
  },
  {
   "cell_type": "code",
   "execution_count": null,
   "id": "6ce47cd1",
   "metadata": {},
   "outputs": [],
   "source": []
  },
  {
   "cell_type": "code",
   "execution_count": 54,
   "id": "08ac0b56",
   "metadata": {},
   "outputs": [],
   "source": [
    "from sklearn.model_selection import train_test_split\n",
    "train_set, test_set = train_test_split(Y, test_size=0.3, random_state=42)\n",
    "\n",
    "target = 'readmitted'\n",
    "features = list(train_set.columns)\n",
    "features = [f for f in features if f != target]\n",
    "X_train = train_set[features]\n",
    "y_train = train_set['readmitted']\n",
    "X_test = test_set[features]\n",
    "y_test = test_set['readmitted']\n",
    "\n",
    "\n",
    "\n",
    "\n",
    "#target = 'readmitted'\n",
    "#features = list(train_set.columns)\n",
    "#features = [f for f in features if f != target]"
   ]
  },
  {
   "cell_type": "code",
   "execution_count": 55,
   "id": "da2c2368",
   "metadata": {},
   "outputs": [],
   "source": [
    "from sklearn.linear_model import LinearRegression\n",
    "from sklearn.neighbors import KNeighborsRegressor\n",
    "from sklearn.metrics import r2_score, mean_squared_error"
   ]
  },
  {
   "cell_type": "markdown",
   "id": "f47fbfca",
   "metadata": {},
   "source": [
    "KNN"
   ]
  },
  {
   "cell_type": "code",
   "execution_count": 56,
   "id": "814a2d8b",
   "metadata": {},
   "outputs": [
    {
     "data": {
      "text/plain": [
       "KNeighborsClassifier(n_neighbors=10)"
      ]
     },
     "execution_count": 56,
     "metadata": {},
     "output_type": "execute_result"
    }
   ],
   "source": [
    "from sklearn.neighbors import KNeighborsClassifier\n",
    "knn = KNeighborsClassifier(n_neighbors = 10)\n",
    "knn.fit(X_train, y_train)"
   ]
  },
  {
   "cell_type": "code",
   "execution_count": 57,
   "id": "92b0931a",
   "metadata": {},
   "outputs": [
    {
     "name": "stdout",
     "output_type": "stream",
     "text": [
      "R^2: -3.5695213726633375\n",
      "MSE: 0.9483315202610825\n"
     ]
    }
   ],
   "source": [
    "#Это я с прошлого года свои штучки вспомнила!Но благодаря Н.Р. Стронгиной я еще теперь знаю их смысл!\n",
    "def print_metrics(y_preds, y):\n",
    "    print(f'R^2: {r2_score(y_preds, y)}')\n",
    "    print(f'MSE: {mean_squared_error(y_preds, y)}')\n",
    "    \n",
    "knn = KNeighborsRegressor(n_neighbors=5)\n",
    "knn.fit(X_train, y_train)\n",
    "print_metrics(knn.predict(X_test), y_test)"
   ]
  },
  {
   "cell_type": "markdown",
   "id": "db63ba66",
   "metadata": {},
   "source": [
    "RandomForestClassifier"
   ]
  },
  {
   "cell_type": "code",
   "execution_count": 58,
   "id": "3e430659",
   "metadata": {},
   "outputs": [],
   "source": [
    "from sklearn import ensemble\n",
    "rf = ensemble.RandomForestClassifier(n_estimators = 1000)\n",
    "rf.fit(X_train, y_train)\n",
    "\n",
    "err_train = np.mean(y_train != rf.predict(X_train))\n",
    "err_test  = np.mean(y_test  != rf.predict(X_test))"
   ]
  },
  {
   "cell_type": "code",
   "execution_count": 59,
   "id": "357f09b1",
   "metadata": {},
   "outputs": [
    {
     "data": {
      "text/plain": [
       "1.4569613613846961e-05"
      ]
     },
     "execution_count": 59,
     "metadata": {},
     "output_type": "execute_result"
    }
   ],
   "source": [
    "err_train"
   ]
  },
  {
   "cell_type": "code",
   "execution_count": 60,
   "id": "9f40439b",
   "metadata": {},
   "outputs": [
    {
     "data": {
      "text/plain": [
       "0.41885368506935"
      ]
     },
     "execution_count": 60,
     "metadata": {},
     "output_type": "execute_result"
    }
   ],
   "source": [
    "err_test "
   ]
  },
  {
   "cell_type": "code",
   "execution_count": 61,
   "id": "5e827b28",
   "metadata": {},
   "outputs": [],
   "source": [
    "from sklearn.model_selection import GridSearchCV\n",
    "from sklearn.metrics import r2_score, mean_squared_error, make_scorer\n",
    "from sklearn.model_selection import cross_validate\n",
    "\n",
    "#gbr_grid_search = GridSearchCV(KNeighborsRegressor(), \n",
    "#                               [{'n_neighbors': [1, 2, 3, 4, 6, 8, 10]}],\n",
    "#                               cv=5,\n",
    "#                               error_score=make_scorer(mean_squared_error),\n",
    "#                               verbose=10)\n",
    "\n",
    "\n",
    "#gbr_grid_search.fit(X_train, y_train)\n"
   ]
  },
  {
   "cell_type": "markdown",
   "id": "cec41969",
   "metadata": {},
   "source": [
    "GBC"
   ]
  },
  {
   "cell_type": "code",
   "execution_count": 62,
   "id": "f3d14c41",
   "metadata": {},
   "outputs": [
    {
     "name": "stdout",
     "output_type": "stream",
     "text": [
      "0.3818258639780873 0.41120478651074244\n"
     ]
    }
   ],
   "source": [
    "gbt = ensemble.GradientBoostingClassifier(n_estimators = 1000)\n",
    "gbt.fit(X_train, y_train)\n",
    "\n",
    "err_train = np.mean(y_train != gbt.predict(X_train))\n",
    "err_test = np.mean(y_test != gbt.predict(X_test))\n",
    "\n",
    "print(err_train, err_test)"
   ]
  },
  {
   "cell_type": "markdown",
   "id": "e9b01451",
   "metadata": {},
   "source": [
    "Вывод:\n",
    "*RandomForestClassifier-Показал наилучшие результаты!В Юпитере вычисления происходили очень медленно!KNN посчитал относительно быстро."
   ]
  },
  {
   "cell_type": "markdown",
   "id": "cc096da6",
   "metadata": {},
   "source": [
    "# Продолжение обучалки)"
   ]
  },
  {
   "cell_type": "code",
   "execution_count": 63,
   "id": "3d95e3df",
   "metadata": {},
   "outputs": [],
   "source": [
    "from sklearn.neural_network import MLPClassifier\n",
    "from sklearn.metrics import accuracy_score\n",
    "from sklearn.metrics import confusion_matrix\n",
    "from sklearn.linear_model import LogisticRegression\n",
    "from sklearn.metrics import accuracy_score"
   ]
  },
  {
   "cell_type": "code",
   "execution_count": 105,
   "id": "60427000",
   "metadata": {},
   "outputs": [],
   "source": [
    "alpha_arr = np.logspace(-3, 2, 21)\n",
    "test_err = []\n",
    "train_err = []\n",
    "train_acc = []\n",
    "test_acc = []\n",
    "\n",
    "for alpha in alpha_arr:\n",
    "    mlp_model = MLPClassifier(alpha = alpha, hidden_layer_sizes = (100,), \n",
    "                              solver = 'sgd', activation = 'logistic', max_iter=1000, random_state = 42)\n",
    "    mlp_model.fit(X_train, y_train)\n",
    "\n",
    "    y_train_pred = mlp_model.predict(X_train)\n",
    "    y_test_pred = mlp_model.predict(X_test)\n",
    "    \n",
    "    train_err.append(np.mean(y_train != y_train_pred))\n",
    "    test_err.append(np.mean(y_test != y_test_pred))\n",
    "    train_acc.append(accuracy_score(y_train, y_train_pred))\n",
    "    test_acc.append(accuracy_score(y_test, y_test_pred))"
   ]
  },
  {
   "cell_type": "code",
   "execution_count": 106,
   "id": "a50e9d89",
   "metadata": {},
   "outputs": [
    {
     "data": {
      "text/plain": [
       "<matplotlib.legend.Legend at 0x212b3ee0ac0>"
      ]
     },
     "execution_count": 106,
     "metadata": {},
     "output_type": "execute_result"
    },
    {
     "data": {
      "image/png": "[encoded data removed]",
      "text/plain": [
       "<Figure size 432x288 with 1 Axes>"
      ]
     },
     "metadata": {
      "needs_background": "light"
     },
     "output_type": "display_data"
    }
   ],
   "source": [
    "plt.semilogx(alpha_arr, train_err, 'b-o', label = 'train')\n",
    "plt.semilogx(alpha_arr, test_err, 'r-o', label = 'test')\n",
    "plt.xlim([np.min(alpha_arr), np.max(alpha_arr)])\n",
    "plt.title('Error vs. alpha')\n",
    "plt.xlabel('alpha')\n",
    "plt.ylabel('error')\n",
    "plt.legend()"
   ]
  },
  {
   "cell_type": "code",
   "execution_count": null,
   "id": "200773c7",
   "metadata": {},
   "outputs": [],
   "source": []
  },
  {
   "cell_type": "code",
   "execution_count": 107,
   "id": "61a506ef",
   "metadata": {},
   "outputs": [
    {
     "data": {
      "text/plain": [
       "<matplotlib.legend.Legend at 0x21293793e50>"
      ]
     },
     "execution_count": 107,
     "metadata": {},
     "output_type": "execute_result"
    },
    {
     "data": {
      "image/png": "[encoded data removed]",
      "text/plain": [
       "<Figure size 432x288 with 1 Axes>"
      ]
     },
     "metadata": {
      "needs_background": "light"
     },
     "output_type": "display_data"
    }
   ],
   "source": [
    "plt.semilogx(alpha_arr, train_acc, 'r-o', label = 'train')\n",
    "plt.semilogx(alpha_arr, test_acc, 'b-o', label = 'test')\n",
    "plt.xlim([np.min(alpha_arr), np.max(alpha_arr)])\n",
    "plt.title('Accuracy vs. alpha')\n",
    "plt.xlabel('alpha')\n",
    "plt.ylabel('Accuracy')\n",
    "plt.legend()"
   ]
  },
  {
   "cell_type": "code",
   "execution_count": 109,
   "id": "ae1a8f29",
   "metadata": {},
   "outputs": [
    {
     "name": "stdout",
     "output_type": "stream",
     "text": [
      "0.4301678419488315 0.42901822137612183\n",
      "[0.17782794]\n"
     ]
    }
   ],
   "source": [
    "min_train_err = np.min(train_err)\n",
    "min_test_err = np.min(test_err)\n",
    "print(min_train_err, min_test_err)\n",
    "alpha_opt = alpha_arr[test_err == min_test_err]\n",
    "print(alpha_opt)"
   ]
  },
  {
   "cell_type": "code",
   "execution_count": 110,
   "id": "0e8f91ca",
   "metadata": {},
   "outputs": [],
   "source": [
    "alpha_opt = alpha_opt[0]"
   ]
  },
  {
   "cell_type": "code",
   "execution_count": 112,
   "id": "a93c399e",
   "metadata": {},
   "outputs": [
    {
     "name": "stdout",
     "output_type": "stream",
     "text": [
      "0.4301678419488315\n",
      "0.42901822137612183\n"
     ]
    }
   ],
   "source": [
    "mlp_model = MLPClassifier(alpha = alpha_opt, hidden_layer_sizes = (100,),\n",
    "                          solver = 'sgd', activation = 'logistic', random_state = 42)\n",
    "mlp_model.fit(X_train, y_train)\n",
    "\n",
    "y_train_pred = mlp_model.predict(X_train)\n",
    "y_test_pred = mlp_model.predict(X_test)\n",
    "print(np.mean(y_train != y_train_pred))\n",
    "print(np.mean(y_test != y_test_pred))"
   ]
  },
  {
   "cell_type": "code",
   "execution_count": 64,
   "id": "eb9638ce",
   "metadata": {},
   "outputs": [],
   "source": [
    "mlp_model = MLPClassifier(hidden_layer_sizes = (4,),\n",
    "                          solver='sgd', \n",
    "                          activation = 'logistic',\n",
    "                          random_state = 42)"
   ]
  },
  {
   "cell_type": "code",
   "execution_count": 68,
   "id": "5c7fd8d6",
   "metadata": {},
   "outputs": [],
   "source": [
    "y_train_pred = mlp_model.predict(X_train)\n",
    "y_test_pred = mlp_model.predict(X_test)\n",
    "\n",
    "\n",
    "\n"
   ]
  },
  {
   "cell_type": "code",
   "execution_count": 66,
   "id": "9b0130cb",
   "metadata": {},
   "outputs": [
    {
     "data": {
      "text/plain": [
       "MLPClassifier(activation='logistic', hidden_layer_sizes=(4,), random_state=42,\n",
       "              solver='sgd')"
      ]
     },
     "execution_count": 66,
     "metadata": {},
     "output_type": "execute_result"
    }
   ],
   "source": [
    "mlp_model.fit(X_train, y_train)"
   ]
  },
  {
   "cell_type": "code",
   "execution_count": 69,
   "id": "6feb4099",
   "metadata": {},
   "outputs": [
    {
     "data": {
      "text/plain": [
       "0.5691765254385454"
      ]
     },
     "execution_count": 69,
     "metadata": {},
     "output_type": "execute_result"
    }
   ],
   "source": [
    "accuracy_score(y_train, y_train_pred)"
   ]
  },
  {
   "cell_type": "code",
   "execution_count": 70,
   "id": "ffda3b08",
   "metadata": {},
   "outputs": [
    {
     "data": {
      "text/plain": [
       "0.570607832472124"
      ]
     },
     "execution_count": 70,
     "metadata": {},
     "output_type": "execute_result"
    }
   ],
   "source": [
    "accuracy_score(y_test, y_test_pred)"
   ]
  },
  {
   "cell_type": "code",
   "execution_count": 72,
   "id": "725e3e0e",
   "metadata": {},
   "outputs": [
    {
     "data": {
      "text/plain": [
       "<sklearn.metrics._plot.confusion_matrix.ConfusionMatrixDisplay at 0x21280b59400>"
      ]
     },
     "execution_count": 72,
     "metadata": {},
     "output_type": "execute_result"
    },
    {
     "data": {
      "image/png": "[encoded data removed]",
      "text/plain": [
       "<Figure size 432x288 with 2 Axes>"
      ]
     },
     "metadata": {
      "needs_background": "light"
     },
     "output_type": "display_data"
    }
   ],
   "source": [
    "from sklearn.metrics import plot_confusion_matrix\n",
    "plot_confusion_matrix(mlp_model, X_test, y_test) "
   ]
  },
  {
   "cell_type": "code",
   "execution_count": null,
   "id": "bbe9b5cb",
   "metadata": {},
   "outputs": [],
   "source": []
  },
  {
   "cell_type": "code",
   "execution_count": 73,
   "id": "7ab98bfa",
   "metadata": {},
   "outputs": [
    {
     "name": "stdout",
     "output_type": "stream",
     "text": [
      "[[13768  2124  7440]\n",
      " [    0     0     0]\n",
      " [ 1971  1096  3017]]\n"
     ]
    }
   ],
   "source": [
    "print(confusion_matrix(y_test_pred, y_test))"
   ]
  },
  {
   "cell_type": "code",
   "execution_count": 83,
   "id": "8ebb1044",
   "metadata": {},
   "outputs": [],
   "source": [
    "lrg_model = LogisticRegression(random_state = 42,solver = 'newton-cg')"
   ]
  },
  {
   "cell_type": "code",
   "execution_count": 84,
   "id": "fe97f2c2",
   "metadata": {},
   "outputs": [
    {
     "data": {
      "text/plain": [
       "LogisticRegression(random_state=42, solver='newton-cg')"
      ]
     },
     "execution_count": 84,
     "metadata": {},
     "output_type": "execute_result"
    }
   ],
   "source": [
    "lrg_model.fit(X_train, y_train)"
   ]
  },
  {
   "cell_type": "code",
   "execution_count": 85,
   "id": "01108f7e",
   "metadata": {},
   "outputs": [
    {
     "data": {
      "text/plain": [
       "<sklearn.metrics._plot.confusion_matrix.ConfusionMatrixDisplay at 0x212a21d8b80>"
      ]
     },
     "execution_count": 85,
     "metadata": {},
     "output_type": "execute_result"
    },
    {
     "data": {
      "image/png": "[encoded data removed]",
      "text/plain": [
       "<Figure size 432x288 with 2 Axes>"
      ]
     },
     "metadata": {
      "needs_background": "light"
     },
     "output_type": "display_data"
    }
   ],
   "source": [
    "plot_confusion_matrix(lrg_model, X_test, y_test) "
   ]
  },
  {
   "cell_type": "code",
   "execution_count": 90,
   "id": "6318a3a6",
   "metadata": {},
   "outputs": [],
   "source": [
    "y_train_pred = lrg_model.predict(X_train)\n",
    "y_test_pred = lrg_model.predict(X_test)"
   ]
  },
  {
   "cell_type": "code",
   "execution_count": 91,
   "id": "c738d5b7",
   "metadata": {},
   "outputs": [
    {
     "data": {
      "text/plain": [
       "0.5664957165335975"
      ]
     },
     "execution_count": 91,
     "metadata": {},
     "output_type": "execute_result"
    }
   ],
   "source": [
    "accuracy_score(y_train, y_train_pred)"
   ]
  },
  {
   "cell_type": "code",
   "execution_count": 92,
   "id": "c590301d",
   "metadata": {},
   "outputs": [
    {
     "data": {
      "text/plain": [
       "0.5674462877345662"
      ]
     },
     "execution_count": 92,
     "metadata": {},
     "output_type": "execute_result"
    }
   ],
   "source": [
    "accuracy_score(y_test, y_test_pred)"
   ]
  },
  {
   "cell_type": "code",
   "execution_count": 93,
   "id": "db0bc98a",
   "metadata": {},
   "outputs": [
    {
     "ename": "NameError",
     "evalue": "name 'x_test' is not defined",
     "output_type": "error",
     "traceback": [
      "\u001b[1;31m---------------------------------------------------------------------------\u001b[0m",
      "\u001b[1;31mNameError\u001b[0m                                 Traceback (most recent call last)",
      "\u001b[1;32m<ipython-input-93-a5f06828c15d>\u001b[0m in \u001b[0;36m<module>\u001b[1;34m\u001b[0m\n\u001b[0;32m      1\u001b[0m \u001b[1;32mfrom\u001b[0m \u001b[0msklearn\u001b[0m\u001b[1;33m.\u001b[0m\u001b[0mmetrics\u001b[0m \u001b[1;32mimport\u001b[0m \u001b[0mplot_confusion_matrix\u001b[0m\u001b[1;33m\u001b[0m\u001b[1;33m\u001b[0m\u001b[0m\n\u001b[1;32m----> 2\u001b[1;33m \u001b[0mplot_confusion_matrix\u001b[0m\u001b[1;33m(\u001b[0m\u001b[0mmlp_model\u001b[0m\u001b[1;33m,\u001b[0m \u001b[0mx_test\u001b[0m\u001b[1;33m,\u001b[0m \u001b[0my_test\u001b[0m\u001b[1;33m)\u001b[0m\u001b[1;33m\u001b[0m\u001b[1;33m\u001b[0m\u001b[0m\n\u001b[0m",
      "\u001b[1;31mNameError\u001b[0m: name 'x_test' is not defined"
     ]
    }
   ],
   "source": [
    "from sklearn.metrics import plot_confusion_matrix\n",
    "plot_confusion_matrix(mlp_model, x_test, y_test) "
   ]
  },
  {
   "cell_type": "code",
   "execution_count": 95,
   "id": "fa8f3a58",
   "metadata": {},
   "outputs": [],
   "source": [
    "rf_model = ensemble.RandomForestClassifier(n_estimators=200)"
   ]
  },
  {
   "cell_type": "code",
   "execution_count": 96,
   "id": "fd301a72",
   "metadata": {},
   "outputs": [
    {
     "data": {
      "text/plain": [
       "RandomForestClassifier(n_estimators=200)"
      ]
     },
     "execution_count": 96,
     "metadata": {},
     "output_type": "execute_result"
    }
   ],
   "source": [
    "rf_model.fit(X_train, y_train)"
   ]
  },
  {
   "cell_type": "code",
   "execution_count": 97,
   "id": "78670254",
   "metadata": {},
   "outputs": [],
   "source": [
    "y_train_pred = rf_model.predict(X_train)\n",
    "y_test_pred = rf_model.predict(X_test)"
   ]
  },
  {
   "cell_type": "code",
   "execution_count": 98,
   "id": "5eb82c7d",
   "metadata": {},
   "outputs": [
    {
     "data": {
      "text/plain": [
       "0.9999854303863861"
      ]
     },
     "execution_count": 98,
     "metadata": {},
     "output_type": "execute_result"
    }
   ],
   "source": [
    "accuracy_score(y_train, y_train_pred)"
   ]
  },
  {
   "cell_type": "code",
   "execution_count": 99,
   "id": "f7650185",
   "metadata": {},
   "outputs": [
    {
     "data": {
      "text/plain": [
       "0.5791406037530595"
      ]
     },
     "execution_count": 99,
     "metadata": {},
     "output_type": "execute_result"
    }
   ],
   "source": [
    "accuracy_score(y_test, y_test_pred)"
   ]
  },
  {
   "cell_type": "code",
   "execution_count": 101,
   "id": "a9357ab0",
   "metadata": {},
   "outputs": [
    {
     "data": {
      "text/plain": [
       "<sklearn.metrics._plot.confusion_matrix.ConfusionMatrixDisplay at 0x2129370f790>"
      ]
     },
     "execution_count": 101,
     "metadata": {},
     "output_type": "execute_result"
    },
    {
     "data": {
      "image/png": "[encoded data removed]",
      "text/plain": [
       "<Figure size 432x288 with 2 Axes>"
      ]
     },
     "metadata": {
      "needs_background": "light"
     },
     "output_type": "display_data"
    }
   ],
   "source": [
    "from sklearn.metrics import plot_confusion_matrix\n",
    "plot_confusion_matrix(rf_model, X_test, y_test) "
   ]
  },
  {
   "cell_type": "code",
   "execution_count": null,
   "id": "811523a3",
   "metadata": {},
   "outputs": [],
   "source": []
  }
 ],
 "metadata": {
  "kernelspec": {
   "display_name": "Python 3",
   "language": "python",
   "name": "python3"
  },
  "language_info": {
   "codemirror_mode": {
    "name": "ipython",
    "version": 3
   },
   "file_extension": ".py",
   "mimetype": "text/x-python",
   "name": "python",
   "nbconvert_exporter": "python",
   "pygments_lexer": "ipython3",
   "version": "3.8.8"
  }
 },
 "nbformat": 4,
 "nbformat_minor": 5
}
